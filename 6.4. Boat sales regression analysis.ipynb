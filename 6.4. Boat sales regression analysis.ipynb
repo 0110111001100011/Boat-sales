{
 "cells": [
  {
   "cell_type": "code",
   "execution_count": 1,
   "id": "a53911e1",
   "metadata": {},
   "outputs": [],
   "source": [
    "# importing libraries\n",
    "import pandas as pd\n",
    "import numpy as np\n",
    "import seaborn as sns\n",
    "import matplotlib\n",
    "import matplotlib.pyplot as plt\n",
    "import os\n",
    "import sklearn\n",
    "from sklearn.model_selection import train_test_split \n",
    "from sklearn.linear_model import LinearRegression\n",
    "from sklearn.metrics import mean_squared_error, r2_score"
   ]
  },
  {
   "cell_type": "code",
   "execution_count": 2,
   "id": "586067ae",
   "metadata": {},
   "outputs": [],
   "source": [
    "# This option ensures the charts you create are displayed in the notebook without the need to \"call\" them specifically.\n",
    "\n",
    "%matplotlib inline"
   ]
  },
  {
   "cell_type": "code",
   "execution_count": 3,
   "id": "dd8c2743",
   "metadata": {},
   "outputs": [],
   "source": [
    "# defining path\n",
    "path =r'C:\\Users\\dog\\Desktop\\Boat sales'"
   ]
  },
  {
   "cell_type": "code",
   "execution_count": 4,
   "id": "67e7fcac",
   "metadata": {},
   "outputs": [],
   "source": [
    "# importing cleaned data\n",
    "df = pd.read_csv(os.path.join(path, '02 Prepared Data', '27.01.df_boats_cleaned6.2..csv'))"
   ]
  },
  {
   "cell_type": "code",
   "execution_count": 5,
   "id": "e0b8e526",
   "metadata": {},
   "outputs": [],
   "source": [
    "# checking for missing data"
   ]
  },
  {
   "cell_type": "code",
   "execution_count": 6,
   "id": "b64e9661",
   "metadata": {},
   "outputs": [
    {
     "data": {
      "text/plain": [
       "Unnamed: 0              0\n",
       "boat_type               0\n",
       "manufacturer            0\n",
       "type                    0\n",
       "year_built              0\n",
       "length                  0\n",
       "width                   0\n",
       "material                0\n",
       "views_last_7_days       0\n",
       "currency                0\n",
       "value                   0\n",
       "value_in_eur            0\n",
       "country                 0\n",
       "type_ad                 0\n",
       "type_ad_DROP         2121\n",
       "boat_type_clean         0\n",
       "Boat_Type_DROP       8911\n",
       "boat_condition          0\n",
       "price_range             0\n",
       "dtype: int64"
      ]
     },
     "execution_count": 6,
     "metadata": {},
     "output_type": "execute_result"
    }
   ],
   "source": [
    "df.isnull().sum()"
   ]
  },
  {
   "cell_type": "code",
   "execution_count": 7,
   "id": "1f8f8bd3",
   "metadata": {},
   "outputs": [],
   "source": [
    "# dropping missing values\n",
    "df.drop(labels=['Unnamed: 0', 'type_ad_DROP','Boat_Type_DROP'], axis=1, inplace=True)"
   ]
  },
  {
   "cell_type": "code",
   "execution_count": 8,
   "id": "8b586518",
   "metadata": {
    "scrolled": true
   },
   "outputs": [
    {
     "data": {
      "text/plain": [
       "boat_type            0\n",
       "manufacturer         0\n",
       "type                 0\n",
       "year_built           0\n",
       "length               0\n",
       "width                0\n",
       "material             0\n",
       "views_last_7_days    0\n",
       "currency             0\n",
       "value                0\n",
       "value_in_eur         0\n",
       "country              0\n",
       "type_ad              0\n",
       "boat_type_clean      0\n",
       "boat_condition       0\n",
       "price_range          0\n",
       "dtype: int64"
      ]
     },
     "execution_count": 8,
     "metadata": {},
     "output_type": "execute_result"
    }
   ],
   "source": [
    "df.isnull().sum()"
   ]
  },
  {
   "cell_type": "code",
   "execution_count": 9,
   "id": "4c8d6c9e",
   "metadata": {},
   "outputs": [
    {
     "data": {
      "text/html": [
       "<div>\n",
       "<style scoped>\n",
       "    .dataframe tbody tr th:only-of-type {\n",
       "        vertical-align: middle;\n",
       "    }\n",
       "\n",
       "    .dataframe tbody tr th {\n",
       "        vertical-align: top;\n",
       "    }\n",
       "\n",
       "    .dataframe thead th {\n",
       "        text-align: right;\n",
       "    }\n",
       "</style>\n",
       "<table border=\"1\" class=\"dataframe\">\n",
       "  <thead>\n",
       "    <tr style=\"text-align: right;\">\n",
       "      <th></th>\n",
       "      <th>year_built</th>\n",
       "      <th>length</th>\n",
       "      <th>width</th>\n",
       "      <th>views_last_7_days</th>\n",
       "      <th>value</th>\n",
       "      <th>value_in_eur</th>\n",
       "    </tr>\n",
       "  </thead>\n",
       "  <tbody>\n",
       "    <tr>\n",
       "      <th>count</th>\n",
       "      <td>9192.000000</td>\n",
       "      <td>9192.000000</td>\n",
       "      <td>9192.000000</td>\n",
       "      <td>9192.000000</td>\n",
       "      <td>9.192000e+03</td>\n",
       "      <td>9.192000e+03</td>\n",
       "    </tr>\n",
       "    <tr>\n",
       "      <th>mean</th>\n",
       "      <td>2004.941036</td>\n",
       "      <td>11.738778</td>\n",
       "      <td>3.595622</td>\n",
       "      <td>147.749130</td>\n",
       "      <td>3.206748e+05</td>\n",
       "      <td>3.017992e+05</td>\n",
       "    </tr>\n",
       "    <tr>\n",
       "      <th>std</th>\n",
       "      <td>16.400792</td>\n",
       "      <td>6.000763</td>\n",
       "      <td>1.309842</td>\n",
       "      <td>149.196469</td>\n",
       "      <td>9.752226e+05</td>\n",
       "      <td>9.331982e+05</td>\n",
       "    </tr>\n",
       "    <tr>\n",
       "      <th>min</th>\n",
       "      <td>1885.000000</td>\n",
       "      <td>1.040000</td>\n",
       "      <td>0.010000</td>\n",
       "      <td>13.000000</td>\n",
       "      <td>3.300000e+03</td>\n",
       "      <td>3.300000e+03</td>\n",
       "    </tr>\n",
       "    <tr>\n",
       "      <th>25%</th>\n",
       "      <td>1999.000000</td>\n",
       "      <td>7.600000</td>\n",
       "      <td>2.550000</td>\n",
       "      <td>70.000000</td>\n",
       "      <td>4.500000e+04</td>\n",
       "      <td>4.499375e+04</td>\n",
       "    </tr>\n",
       "    <tr>\n",
       "      <th>50%</th>\n",
       "      <td>2008.000000</td>\n",
       "      <td>10.500000</td>\n",
       "      <td>3.400000</td>\n",
       "      <td>107.000000</td>\n",
       "      <td>9.895000e+04</td>\n",
       "      <td>9.582950e+04</td>\n",
       "    </tr>\n",
       "    <tr>\n",
       "      <th>75%</th>\n",
       "      <td>2018.000000</td>\n",
       "      <td>14.000000</td>\n",
       "      <td>4.270000</td>\n",
       "      <td>170.000000</td>\n",
       "      <td>2.596000e+05</td>\n",
       "      <td>2.495258e+05</td>\n",
       "    </tr>\n",
       "    <tr>\n",
       "      <th>max</th>\n",
       "      <td>2021.000000</td>\n",
       "      <td>100.000000</td>\n",
       "      <td>25.160000</td>\n",
       "      <td>3263.000000</td>\n",
       "      <td>3.100000e+07</td>\n",
       "      <td>3.100000e+07</td>\n",
       "    </tr>\n",
       "  </tbody>\n",
       "</table>\n",
       "</div>"
      ],
      "text/plain": [
       "        year_built       length        width  views_last_7_days         value  \\\n",
       "count  9192.000000  9192.000000  9192.000000        9192.000000  9.192000e+03   \n",
       "mean   2004.941036    11.738778     3.595622         147.749130  3.206748e+05   \n",
       "std      16.400792     6.000763     1.309842         149.196469  9.752226e+05   \n",
       "min    1885.000000     1.040000     0.010000          13.000000  3.300000e+03   \n",
       "25%    1999.000000     7.600000     2.550000          70.000000  4.500000e+04   \n",
       "50%    2008.000000    10.500000     3.400000         107.000000  9.895000e+04   \n",
       "75%    2018.000000    14.000000     4.270000         170.000000  2.596000e+05   \n",
       "max    2021.000000   100.000000    25.160000        3263.000000  3.100000e+07   \n",
       "\n",
       "       value_in_eur  \n",
       "count  9.192000e+03  \n",
       "mean   3.017992e+05  \n",
       "std    9.331982e+05  \n",
       "min    3.300000e+03  \n",
       "25%    4.499375e+04  \n",
       "50%    9.582950e+04  \n",
       "75%    2.495258e+05  \n",
       "max    3.100000e+07  "
      ]
     },
     "execution_count": 9,
     "metadata": {},
     "output_type": "execute_result"
    }
   ],
   "source": [
    "df.describe()"
   ]
  },
  {
   "cell_type": "code",
   "execution_count": 10,
   "id": "97e60284",
   "metadata": {},
   "outputs": [
    {
     "name": "stderr",
     "output_type": "stream",
     "text": [
      "C:\\Users\\dog\\anaconda3\\lib\\site-packages\\seaborn\\distributions.py:2619: FutureWarning: `distplot` is a deprecated function and will be removed in a future version. Please adapt your code to use either `displot` (a figure-level function with similar flexibility) or `histplot` (an axes-level function for histograms).\n",
      "  warnings.warn(msg, FutureWarning)\n"
     ]
    },
    {
     "data": {
      "text/plain": [
       "<AxesSubplot:xlabel='value_in_eur', ylabel='Density'>"
      ]
     },
     "execution_count": 10,
     "metadata": {},
     "output_type": "execute_result"
    },
    {
     "data": {
      "image/png": "[encoded data removed]",
      "text/plain": [
       "<Figure size 640x480 with 1 Axes>"
      ]
     },
     "metadata": {},
     "output_type": "display_data"
    }
   ],
   "source": [
    "# Check for extreme values\n",
    "sns.distplot(df['value_in_eur'],bins = 25, kde = True)"
   ]
  },
  {
   "cell_type": "markdown",
   "id": "23b4affb",
   "metadata": {},
   "source": [
    "# we can not remove outliers, due to its importance for the analysis. We need to find out relation between price of the boat and its year built as well as the length length in the regression analysis. Therefore if we will remove outliers at this step we will not be able to see trend in there."
   ]
  },
  {
   "cell_type": "code",
   "execution_count": 11,
   "id": "b0c05fce",
   "metadata": {},
   "outputs": [
    {
     "data": {
      "text/plain": [
       "301799.1675369887"
      ]
     },
     "execution_count": 11,
     "metadata": {},
     "output_type": "execute_result"
    }
   ],
   "source": [
    "df['value_in_eur'].mean()"
   ]
  },
  {
   "cell_type": "code",
   "execution_count": 12,
   "id": "0d78f6bc",
   "metadata": {},
   "outputs": [
    {
     "data": {
      "text/plain": [
       "95829.5"
      ]
     },
     "execution_count": 12,
     "metadata": {},
     "output_type": "execute_result"
    }
   ],
   "source": [
    "df['value_in_eur'].median()"
   ]
  },
  {
   "cell_type": "code",
   "execution_count": 13,
   "id": "0ebee711",
   "metadata": {},
   "outputs": [
    {
     "data": {
      "text/plain": [
       "31000000"
      ]
     },
     "execution_count": 13,
     "metadata": {},
     "output_type": "execute_result"
    }
   ],
   "source": [
    "df['value_in_eur'].max()"
   ]
  },
  {
   "cell_type": "markdown",
   "id": "9a850b24",
   "metadata": {},
   "source": [
    "# Preparation for regression analysis"
   ]
  },
  {
   "cell_type": "markdown",
   "id": "06f20100",
   "metadata": {},
   "source": [
    "# Hypothesis: \n",
    "1. Shorter boats have lower price \n",
    "2. as older the boat is as lower the price is"
   ]
  },
  {
   "cell_type": "code",
   "execution_count": 14,
   "id": "f96fae34",
   "metadata": {
    "scrolled": true
   },
   "outputs": [
    {
     "data": {
      "image/png": "[encoded data removed]",
      "text/plain": [
       "<Figure size 640x480 with 1 Axes>"
      ]
     },
     "metadata": {},
     "output_type": "display_data"
    }
   ],
   "source": [
    "# Create a scatterplot using matplotlib for another look at how the chosen variables plot against each other.\n",
    "\n",
    "\n",
    "df.plot(x = 'length', y='value_in_eur',style='o') # The style option creates a scatterplot; without it, we only have lines.\n",
    "plt.title('length vs value in eur')  \n",
    "plt.xlabel('length')  \n",
    "plt.ylabel('value_in_eur')  \n",
    "plt.show()"
   ]
  },
  {
   "cell_type": "code",
   "execution_count": null,
   "id": "5ff65ff3",
   "metadata": {},
   "outputs": [],
   "source": []
  },
  {
   "cell_type": "code",
   "execution_count": 15,
   "id": "d621b81f",
   "metadata": {},
   "outputs": [],
   "source": [
    "# Reshape the variables into NumPy arrays and put them into separate objects.\n",
    "\n",
    "X = df['length'].values.reshape(-1,1)\n",
    "y = df['value_in_eur'].values.reshape(-1,1)"
   ]
  },
  {
   "cell_type": "code",
   "execution_count": 16,
   "id": "3d5afe99",
   "metadata": {
    "scrolled": true
   },
   "outputs": [
    {
     "data": {
      "text/plain": [
       "array([[4.  ],\n",
       "       [4.  ],\n",
       "       [3.  ],\n",
       "       ...,\n",
       "       [4.4 ],\n",
       "       [4.37],\n",
       "       [3.6 ]])"
      ]
     },
     "execution_count": 16,
     "metadata": {},
     "output_type": "execute_result"
    }
   ],
   "source": [
    "X"
   ]
  },
  {
   "cell_type": "code",
   "execution_count": 17,
   "id": "4a0ddf74",
   "metadata": {
    "scrolled": true
   },
   "outputs": [
    {
     "data": {
      "text/plain": [
       "array([[3337],\n",
       "       [3490],\n",
       "       [3367],\n",
       "       ...,\n",
       "       [4499],\n",
       "       [4300],\n",
       "       [3780]], dtype=int64)"
      ]
     },
     "execution_count": 17,
     "metadata": {},
     "output_type": "execute_result"
    }
   ],
   "source": [
    "y"
   ]
  },
  {
   "cell_type": "code",
   "execution_count": 18,
   "id": "6f9037f9",
   "metadata": {},
   "outputs": [],
   "source": [
    "# Split data into a training set and a test set.\n",
    "\n",
    "X_train, X_test, y_train, y_test = train_test_split(X, y, test_size=0.3, random_state=0)"
   ]
  },
  {
   "cell_type": "markdown",
   "id": "1b418f54",
   "metadata": {},
   "source": [
    "# Regression analysis\n"
   ]
  },
  {
   "cell_type": "code",
   "execution_count": 19,
   "id": "f98b5ee6",
   "metadata": {},
   "outputs": [],
   "source": [
    "regression = LinearRegression()  # This is the regression object, which will be fit onto the training set."
   ]
  },
  {
   "cell_type": "code",
   "execution_count": 20,
   "id": "89e15816",
   "metadata": {},
   "outputs": [
    {
     "data": {
      "text/plain": [
       "LinearRegression()"
      ]
     },
     "execution_count": 20,
     "metadata": {},
     "output_type": "execute_result"
    }
   ],
   "source": [
    "# Fit the regression object onto the training set.\n",
    "\n",
    "regression.fit(X_train, y_train)"
   ]
  },
  {
   "cell_type": "code",
   "execution_count": 21,
   "id": "e320f9da",
   "metadata": {},
   "outputs": [],
   "source": [
    "# Predict the values of y using X.\n",
    "\n",
    "y_predicted = regression.predict(X_test)"
   ]
  },
  {
   "cell_type": "code",
   "execution_count": 22,
   "id": "61ec528a",
   "metadata": {
    "scrolled": true
   },
   "outputs": [
    {
     "data": {
      "image/png": "[encoded data removed]",
      "text/plain": [
       "<Figure size 640x480 with 1 Axes>"
      ]
     },
     "metadata": {},
     "output_type": "display_data"
    }
   ],
   "source": [
    "# Create a plot that shows the regression line from the model on the test set.\n",
    "\n",
    "plot_test = plt\n",
    "plot_test.scatter(X_test, y_test, color='gray', s = 15)\n",
    "plot_test.plot(X_test, y_predicted, color='red', linewidth =3)\n",
    "plot_test.title('length vs value_in_eur (Test set)')\n",
    "plot_test.xlabel('length')\n",
    "plot_test.ylabel('value_in_eur')\n",
    "plot_test.show()"
   ]
  },
  {
   "cell_type": "markdown",
   "id": "b8392e3c",
   "metadata": {},
   "source": [
    "#### we can see that the data has linear relationship and we see positive relationship in it. Which can prove that as higher the length is as higher the price is"
   ]
  },
  {
   "cell_type": "code",
   "execution_count": 23,
   "id": "9d0d42f0",
   "metadata": {},
   "outputs": [],
   "source": [
    "# Create objects that contain the model summary statistics.\n",
    "rmse = mean_squared_error(y_test, y_predicted)\n",
    "r2 = r2_score(y_test, y_predicted)"
   ]
  },
  {
   "cell_type": "code",
   "execution_count": 24,
   "id": "fdcbfcb5",
   "metadata": {},
   "outputs": [
    {
     "name": "stdout",
     "output_type": "stream",
     "text": [
      "Slope: [[88763.63303278]]\n",
      "Mean squared error:  364893569909.5815\n",
      "R2 score:  0.385446533386269\n"
     ]
    }
   ],
   "source": [
    "# Print the model summary statistics. This is where you evaluate the performance of the model.\n",
    "\n",
    "print('Slope:' ,regression.coef_)\n",
    "print('Mean squared error: ', rmse)\n",
    "print('R2 score: ', r2)"
   ]
  },
  {
   "cell_type": "code",
   "execution_count": 25,
   "id": "fdd440f8",
   "metadata": {
    "scrolled": false
   },
   "outputs": [
    {
     "data": {
      "text/html": [
       "<div>\n",
       "<style scoped>\n",
       "    .dataframe tbody tr th:only-of-type {\n",
       "        vertical-align: middle;\n",
       "    }\n",
       "\n",
       "    .dataframe tbody tr th {\n",
       "        vertical-align: top;\n",
       "    }\n",
       "\n",
       "    .dataframe thead th {\n",
       "        text-align: right;\n",
       "    }\n",
       "</style>\n",
       "<table border=\"1\" class=\"dataframe\">\n",
       "  <thead>\n",
       "    <tr style=\"text-align: right;\">\n",
       "      <th></th>\n",
       "      <th>Actual</th>\n",
       "      <th>Predicted</th>\n",
       "    </tr>\n",
       "  </thead>\n",
       "  <tbody>\n",
       "    <tr>\n",
       "      <th>0</th>\n",
       "      <td>35000</td>\n",
       "      <td>-7.156079e+04</td>\n",
       "    </tr>\n",
       "    <tr>\n",
       "      <th>1</th>\n",
       "      <td>14950</td>\n",
       "      <td>-2.535262e+05</td>\n",
       "    </tr>\n",
       "    <tr>\n",
       "      <th>2</th>\n",
       "      <td>885000</td>\n",
       "      <td>7.708061e+05</td>\n",
       "    </tr>\n",
       "    <tr>\n",
       "      <th>3</th>\n",
       "      <td>4900</td>\n",
       "      <td>-1.700884e+05</td>\n",
       "    </tr>\n",
       "    <tr>\n",
       "      <th>4</th>\n",
       "      <td>65000</td>\n",
       "      <td>8.821375e+04</td>\n",
       "    </tr>\n",
       "    <tr>\n",
       "      <th>5</th>\n",
       "      <td>949000</td>\n",
       "      <td>9.794006e+05</td>\n",
       "    </tr>\n",
       "    <tr>\n",
       "      <th>6</th>\n",
       "      <td>24500</td>\n",
       "      <td>1.272697e+05</td>\n",
       "    </tr>\n",
       "    <tr>\n",
       "      <th>7</th>\n",
       "      <td>39170</td>\n",
       "      <td>-2.038186e+05</td>\n",
       "    </tr>\n",
       "    <tr>\n",
       "      <th>8</th>\n",
       "      <td>69000</td>\n",
       "      <td>2.914825e+05</td>\n",
       "    </tr>\n",
       "    <tr>\n",
       "      <th>9</th>\n",
       "      <td>119600</td>\n",
       "      <td>4.383193e+04</td>\n",
       "    </tr>\n",
       "    <tr>\n",
       "      <th>10</th>\n",
       "      <td>19500</td>\n",
       "      <td>-2.952451e+05</td>\n",
       "    </tr>\n",
       "    <tr>\n",
       "      <th>11</th>\n",
       "      <td>16500</td>\n",
       "      <td>-1.878411e+05</td>\n",
       "    </tr>\n",
       "    <tr>\n",
       "      <th>12</th>\n",
       "      <td>359000</td>\n",
       "      <td>6.110315e+05</td>\n",
       "    </tr>\n",
       "    <tr>\n",
       "      <th>13</th>\n",
       "      <td>14750</td>\n",
       "      <td>-3.804582e+05</td>\n",
       "    </tr>\n",
       "    <tr>\n",
       "      <th>14</th>\n",
       "      <td>185000</td>\n",
       "      <td>1.485730e+05</td>\n",
       "    </tr>\n",
       "    <tr>\n",
       "      <th>15</th>\n",
       "      <td>44900</td>\n",
       "      <td>-1.922793e+05</td>\n",
       "    </tr>\n",
       "    <tr>\n",
       "      <th>16</th>\n",
       "      <td>106750</td>\n",
       "      <td>1.583370e+05</td>\n",
       "    </tr>\n",
       "    <tr>\n",
       "      <th>17</th>\n",
       "      <td>58700</td>\n",
       "      <td>-2.806661e+04</td>\n",
       "    </tr>\n",
       "    <tr>\n",
       "      <th>18</th>\n",
       "      <td>67830</td>\n",
       "      <td>3.269879e+05</td>\n",
       "    </tr>\n",
       "    <tr>\n",
       "      <th>19</th>\n",
       "      <td>27500</td>\n",
       "      <td>2.519157e+04</td>\n",
       "    </tr>\n",
       "    <tr>\n",
       "      <th>20</th>\n",
       "      <td>12000</td>\n",
       "      <td>-1.612121e+05</td>\n",
       "    </tr>\n",
       "    <tr>\n",
       "      <th>21</th>\n",
       "      <td>195000</td>\n",
       "      <td>2.826061e+05</td>\n",
       "    </tr>\n",
       "    <tr>\n",
       "      <th>22</th>\n",
       "      <td>12500</td>\n",
       "      <td>-2.410993e+05</td>\n",
       "    </tr>\n",
       "    <tr>\n",
       "      <th>23</th>\n",
       "      <td>50000</td>\n",
       "      <td>1.769774e+05</td>\n",
       "    </tr>\n",
       "    <tr>\n",
       "      <th>24</th>\n",
       "      <td>205000</td>\n",
       "      <td>3.261003e+05</td>\n",
       "    </tr>\n",
       "    <tr>\n",
       "      <th>25</th>\n",
       "      <td>160000</td>\n",
       "      <td>4.157516e+05</td>\n",
       "    </tr>\n",
       "    <tr>\n",
       "      <th>26</th>\n",
       "      <td>690000</td>\n",
       "      <td>1.480915e+06</td>\n",
       "    </tr>\n",
       "    <tr>\n",
       "      <th>27</th>\n",
       "      <td>85000</td>\n",
       "      <td>5.222679e+05</td>\n",
       "    </tr>\n",
       "    <tr>\n",
       "      <th>28</th>\n",
       "      <td>48678</td>\n",
       "      <td>-1.541110e+05</td>\n",
       "    </tr>\n",
       "    <tr>\n",
       "      <th>29</th>\n",
       "      <td>480000</td>\n",
       "      <td>1.488016e+06</td>\n",
       "    </tr>\n",
       "  </tbody>\n",
       "</table>\n",
       "</div>"
      ],
      "text/plain": [
       "    Actual     Predicted\n",
       "0    35000 -7.156079e+04\n",
       "1    14950 -2.535262e+05\n",
       "2   885000  7.708061e+05\n",
       "3     4900 -1.700884e+05\n",
       "4    65000  8.821375e+04\n",
       "5   949000  9.794006e+05\n",
       "6    24500  1.272697e+05\n",
       "7    39170 -2.038186e+05\n",
       "8    69000  2.914825e+05\n",
       "9   119600  4.383193e+04\n",
       "10   19500 -2.952451e+05\n",
       "11   16500 -1.878411e+05\n",
       "12  359000  6.110315e+05\n",
       "13   14750 -3.804582e+05\n",
       "14  185000  1.485730e+05\n",
       "15   44900 -1.922793e+05\n",
       "16  106750  1.583370e+05\n",
       "17   58700 -2.806661e+04\n",
       "18   67830  3.269879e+05\n",
       "19   27500  2.519157e+04\n",
       "20   12000 -1.612121e+05\n",
       "21  195000  2.826061e+05\n",
       "22   12500 -2.410993e+05\n",
       "23   50000  1.769774e+05\n",
       "24  205000  3.261003e+05\n",
       "25  160000  4.157516e+05\n",
       "26  690000  1.480915e+06\n",
       "27   85000  5.222679e+05\n",
       "28   48678 -1.541110e+05\n",
       "29  480000  1.488016e+06"
      ]
     },
     "execution_count": 25,
     "metadata": {},
     "output_type": "execute_result"
    }
   ],
   "source": [
    "# Create a dataframe comparing the actual and predicted values of y.\n",
    "\n",
    "data = pd.DataFrame({'Actual': y_test.flatten(), 'Predicted': y_predicted.flatten()})\n",
    "data.head(30)"
   ]
  },
  {
   "cell_type": "markdown",
   "id": "730ec0fd",
   "metadata": {},
   "source": [
    "# summary statistic doesnt show right prediction which can be caused by the outliers of the boats which are long and nevertheless has lower price. R2 is at 0.38 which shows us that less than 40% are explained by the regression model. This is a poor relationshiop"
   ]
  },
  {
   "cell_type": "code",
   "execution_count": null,
   "id": "069102fc",
   "metadata": {},
   "outputs": [],
   "source": []
  },
  {
   "cell_type": "code",
   "execution_count": 26,
   "id": "5c351aba",
   "metadata": {},
   "outputs": [],
   "source": [
    "# Training set prediction\n",
    "\n",
    "y_predicted_train = regression.predict(X_train) # This is predicting X_train!"
   ]
  },
  {
   "cell_type": "code",
   "execution_count": 27,
   "id": "2ab3105a",
   "metadata": {},
   "outputs": [],
   "source": [
    "rmse = mean_squared_error(y_train, y_predicted_train)\n",
    "r2 = r2_score(y_train, y_predicted_train)"
   ]
  },
  {
   "cell_type": "code",
   "execution_count": 28,
   "id": "0afbfdff",
   "metadata": {},
   "outputs": [
    {
     "name": "stdout",
     "output_type": "stream",
     "text": [
      "Slope: [[88763.63303278]]\n",
      "Mean squared error:  695309155288.3967\n",
      "R2 score:  0.2972690668721669\n"
     ]
    }
   ],
   "source": [
    "print('Slope:' ,regression.coef_)\n",
    "print('Mean squared error: ', rmse)\n",
    "print('R2 score: ', r2)"
   ]
  },
  {
   "cell_type": "code",
   "execution_count": 29,
   "id": "ed7a1ad7",
   "metadata": {
    "scrolled": true
   },
   "outputs": [
    {
     "data": {
      "image/png": "[encoded data removed]",
      "text/plain": [
       "<Figure size 640x480 with 1 Axes>"
      ]
     },
     "metadata": {},
     "output_type": "display_data"
    }
   ],
   "source": [
    "# Create a plot that shows the regression line from the model on the test set.\n",
    "\n",
    "plot_test = plt\n",
    "plot_test.scatter(X_train, y_train, color='gray', s = 15)\n",
    "plot_test.plot(X_train, y_predicted_train, color='red', linewidth =3)\n",
    "plot_test.title('length vs value_in_eur (Train set)')\n",
    "plot_test.xlabel('length')\n",
    "plot_test.ylabel('value_in_eur')\n",
    "plot_test.show()"
   ]
  },
  {
   "cell_type": "markdown",
   "id": "89c356c1",
   "metadata": {},
   "source": [
    "# R2 score is less in the train set, we still see a positive trend, however the relationship in this set is weaker than in the test set. Still that can be due to influence of the outliers which are in the same price range of the short boats. We still can see on the scatterplot that as a rule it is usually so, that the price is higher if the boat is longer."
   ]
  },
  {
   "cell_type": "code",
   "execution_count": null,
   "id": "5d69f97b",
   "metadata": {},
   "outputs": [],
   "source": []
  },
  {
   "cell_type": "code",
   "execution_count": null,
   "id": "42bf68d0",
   "metadata": {},
   "outputs": [],
   "source": []
  },
  {
   "cell_type": "code",
   "execution_count": null,
   "id": "35beec35",
   "metadata": {},
   "outputs": [],
   "source": []
  },
  {
   "cell_type": "code",
   "execution_count": null,
   "id": "35b2fb1c",
   "metadata": {},
   "outputs": [],
   "source": []
  },
  {
   "cell_type": "code",
   "execution_count": null,
   "id": "cb241c1f",
   "metadata": {},
   "outputs": [],
   "source": []
  },
  {
   "cell_type": "markdown",
   "id": "da218d7a",
   "metadata": {},
   "source": [
    "# Relationship between year_built and value"
   ]
  },
  {
   "cell_type": "code",
   "execution_count": 30,
   "id": "8663cd12",
   "metadata": {
    "scrolled": true
   },
   "outputs": [
    {
     "data": {
      "image/png": "[encoded data removed]",
      "text/plain": [
       "<Figure size 640x480 with 1 Axes>"
      ]
     },
     "metadata": {},
     "output_type": "display_data"
    }
   ],
   "source": [
    "# Create a scatterplot using matplotlib for another look at how the chosen variables plot against each other.\n",
    "\n",
    "\n",
    "df.plot(x = 'year_built', y='value_in_eur',style='o') # The style option creates a scatterplot; without it, we only have lines.\n",
    "plt.title('year_built vs value in eur')  \n",
    "plt.xlabel('length')  \n",
    "plt.ylabel('value_in_eur')  \n",
    "plt.show()"
   ]
  },
  {
   "cell_type": "code",
   "execution_count": 31,
   "id": "8e5fae4b",
   "metadata": {},
   "outputs": [],
   "source": [
    "# Reshape the variables into NumPy arrays and put them into separate objects.\n",
    "\n",
    "X = df['year_built'].values.reshape(-1,1)\n",
    "y = df['value_in_eur'].values.reshape(-1,1)"
   ]
  },
  {
   "cell_type": "code",
   "execution_count": 32,
   "id": "63917a83",
   "metadata": {},
   "outputs": [],
   "source": [
    "# Split data into a training set and a test set.\n",
    "\n",
    "X_train, X_test, y_train, y_test = train_test_split(X, y, test_size=0.3, random_state=0)"
   ]
  },
  {
   "cell_type": "code",
   "execution_count": 33,
   "id": "12a0fb6b",
   "metadata": {},
   "outputs": [],
   "source": [
    "regression = LinearRegression()  # This is the regression object, which will be fit onto the training set."
   ]
  },
  {
   "cell_type": "code",
   "execution_count": 34,
   "id": "b055efa0",
   "metadata": {},
   "outputs": [
    {
     "data": {
      "text/plain": [
       "LinearRegression()"
      ]
     },
     "execution_count": 34,
     "metadata": {},
     "output_type": "execute_result"
    }
   ],
   "source": [
    "# Fit the regression object onto the training set.\n",
    "\n",
    "regression.fit(X_train, y_train)"
   ]
  },
  {
   "cell_type": "code",
   "execution_count": 35,
   "id": "6a2b0f6c",
   "metadata": {},
   "outputs": [],
   "source": [
    "# Predict the values of y using X.\n",
    "\n",
    "y_predicted = regression.predict(X_test)"
   ]
  },
  {
   "cell_type": "code",
   "execution_count": 36,
   "id": "f0b5d317",
   "metadata": {
    "scrolled": true
   },
   "outputs": [
    {
     "data": {
      "image/png": "[encoded data removed]",
      "text/plain": [
       "<Figure size 640x480 with 1 Axes>"
      ]
     },
     "metadata": {},
     "output_type": "display_data"
    }
   ],
   "source": [
    "# Create a plot that shows the regression line from the model on the test set.\n",
    "\n",
    "plot_test = plt\n",
    "plot_test.scatter(X_test, y_test, color='gray', s = 15)\n",
    "plot_test.plot(X_test, y_predicted, color='red', linewidth =3)\n",
    "plot_test.title('year_built vs value_in_eur (Test set)')\n",
    "plot_test.xlabel('year_built')\n",
    "plot_test.ylabel('value_in_eur')\n",
    "plot_test.show()"
   ]
  },
  {
   "cell_type": "markdown",
   "id": "ebc240b3",
   "metadata": {},
   "source": [
    "# we see a very weak positive trend, which means, that the hypothesis isnt wrong, however the line is not explicitly shows strong relation. That could be due to different condition of the boats. In order to prove it analysis of different categories of the boat is needed."
   ]
  },
  {
   "cell_type": "code",
   "execution_count": 37,
   "id": "7927c54d",
   "metadata": {},
   "outputs": [],
   "source": [
    "# Create objects that contain the model summary statistics.\n",
    "rmse = mean_squared_error(y_test, y_predicted)\n",
    "r2 = r2_score(y_test, y_predicted)"
   ]
  },
  {
   "cell_type": "code",
   "execution_count": 38,
   "id": "43beb483",
   "metadata": {},
   "outputs": [
    {
     "name": "stdout",
     "output_type": "stream",
     "text": [
      "Slope: [[6052.55650522]]\n",
      "Mean squared error:  584970007490.8778\n",
      "R2 score:  0.014793968395606316\n"
     ]
    }
   ],
   "source": [
    "# Print the model summary statistics. This is where you evaluate the performance of the model.\n",
    "\n",
    "print('Slope:' ,regression.coef_)\n",
    "print('Mean squared error: ', rmse)\n",
    "print('R2 score: ', r2)"
   ]
  },
  {
   "cell_type": "code",
   "execution_count": 39,
   "id": "10a96aad",
   "metadata": {},
   "outputs": [
    {
     "data": {
      "text/html": [
       "<div>\n",
       "<style scoped>\n",
       "    .dataframe tbody tr th:only-of-type {\n",
       "        vertical-align: middle;\n",
       "    }\n",
       "\n",
       "    .dataframe tbody tr th {\n",
       "        vertical-align: top;\n",
       "    }\n",
       "\n",
       "    .dataframe thead th {\n",
       "        text-align: right;\n",
       "    }\n",
       "</style>\n",
       "<table border=\"1\" class=\"dataframe\">\n",
       "  <thead>\n",
       "    <tr style=\"text-align: right;\">\n",
       "      <th></th>\n",
       "      <th>Actual</th>\n",
       "      <th>Predicted</th>\n",
       "    </tr>\n",
       "  </thead>\n",
       "  <tbody>\n",
       "    <tr>\n",
       "      <th>0</th>\n",
       "      <td>35000</td>\n",
       "      <td>312177.936105</td>\n",
       "    </tr>\n",
       "    <tr>\n",
       "      <th>1</th>\n",
       "      <td>14950</td>\n",
       "      <td>294020.266589</td>\n",
       "    </tr>\n",
       "    <tr>\n",
       "      <th>2</th>\n",
       "      <td>885000</td>\n",
       "      <td>378756.057662</td>\n",
       "    </tr>\n",
       "    <tr>\n",
       "      <th>3</th>\n",
       "      <td>4900</td>\n",
       "      <td>245599.814547</td>\n",
       "    </tr>\n",
       "    <tr>\n",
       "      <th>4</th>\n",
       "      <td>65000</td>\n",
       "      <td>366650.944652</td>\n",
       "    </tr>\n",
       "    <tr>\n",
       "      <th>5</th>\n",
       "      <td>949000</td>\n",
       "      <td>360598.388146</td>\n",
       "    </tr>\n",
       "    <tr>\n",
       "      <th>6</th>\n",
       "      <td>24500</td>\n",
       "      <td>203231.919011</td>\n",
       "    </tr>\n",
       "    <tr>\n",
       "      <th>7</th>\n",
       "      <td>39170</td>\n",
       "      <td>396913.727178</td>\n",
       "    </tr>\n",
       "    <tr>\n",
       "      <th>8</th>\n",
       "      <td>69000</td>\n",
       "      <td>239547.258042</td>\n",
       "    </tr>\n",
       "    <tr>\n",
       "      <th>9</th>\n",
       "      <td>119600</td>\n",
       "      <td>396913.727178</td>\n",
       "    </tr>\n",
       "    <tr>\n",
       "      <th>10</th>\n",
       "      <td>19500</td>\n",
       "      <td>396913.727178</td>\n",
       "    </tr>\n",
       "    <tr>\n",
       "      <th>11</th>\n",
       "      <td>16500</td>\n",
       "      <td>124548.684443</td>\n",
       "    </tr>\n",
       "    <tr>\n",
       "      <th>12</th>\n",
       "      <td>359000</td>\n",
       "      <td>354545.831641</td>\n",
       "    </tr>\n",
       "    <tr>\n",
       "      <th>13</th>\n",
       "      <td>14750</td>\n",
       "      <td>330335.605620</td>\n",
       "    </tr>\n",
       "    <tr>\n",
       "      <th>14</th>\n",
       "      <td>185000</td>\n",
       "      <td>366650.944652</td>\n",
       "    </tr>\n",
       "    <tr>\n",
       "      <th>15</th>\n",
       "      <td>44900</td>\n",
       "      <td>354545.831641</td>\n",
       "    </tr>\n",
       "    <tr>\n",
       "      <th>16</th>\n",
       "      <td>106750</td>\n",
       "      <td>294020.266589</td>\n",
       "    </tr>\n",
       "    <tr>\n",
       "      <th>17</th>\n",
       "      <td>58700</td>\n",
       "      <td>396913.727178</td>\n",
       "    </tr>\n",
       "    <tr>\n",
       "      <th>18</th>\n",
       "      <td>67830</td>\n",
       "      <td>336388.162126</td>\n",
       "    </tr>\n",
       "    <tr>\n",
       "      <th>19</th>\n",
       "      <td>27500</td>\n",
       "      <td>112443.571432</td>\n",
       "    </tr>\n",
       "    <tr>\n",
       "      <th>20</th>\n",
       "      <td>12000</td>\n",
       "      <td>148758.910464</td>\n",
       "    </tr>\n",
       "    <tr>\n",
       "      <th>21</th>\n",
       "      <td>195000</td>\n",
       "      <td>300072.823094</td>\n",
       "    </tr>\n",
       "    <tr>\n",
       "      <th>22</th>\n",
       "      <td>12500</td>\n",
       "      <td>239547.258042</td>\n",
       "    </tr>\n",
       "    <tr>\n",
       "      <th>23</th>\n",
       "      <td>50000</td>\n",
       "      <td>300072.823094</td>\n",
       "    </tr>\n",
       "    <tr>\n",
       "      <th>24</th>\n",
       "      <td>205000</td>\n",
       "      <td>330335.605620</td>\n",
       "    </tr>\n",
       "    <tr>\n",
       "      <th>25</th>\n",
       "      <td>160000</td>\n",
       "      <td>366650.944652</td>\n",
       "    </tr>\n",
       "    <tr>\n",
       "      <th>26</th>\n",
       "      <td>690000</td>\n",
       "      <td>318230.492610</td>\n",
       "    </tr>\n",
       "    <tr>\n",
       "      <th>27</th>\n",
       "      <td>85000</td>\n",
       "      <td>306125.379599</td>\n",
       "    </tr>\n",
       "    <tr>\n",
       "      <th>28</th>\n",
       "      <td>48678</td>\n",
       "      <td>396913.727178</td>\n",
       "    </tr>\n",
       "    <tr>\n",
       "      <th>29</th>\n",
       "      <td>480000</td>\n",
       "      <td>275862.597073</td>\n",
       "    </tr>\n",
       "  </tbody>\n",
       "</table>\n",
       "</div>"
      ],
      "text/plain": [
       "    Actual      Predicted\n",
       "0    35000  312177.936105\n",
       "1    14950  294020.266589\n",
       "2   885000  378756.057662\n",
       "3     4900  245599.814547\n",
       "4    65000  366650.944652\n",
       "5   949000  360598.388146\n",
       "6    24500  203231.919011\n",
       "7    39170  396913.727178\n",
       "8    69000  239547.258042\n",
       "9   119600  396913.727178\n",
       "10   19500  396913.727178\n",
       "11   16500  124548.684443\n",
       "12  359000  354545.831641\n",
       "13   14750  330335.605620\n",
       "14  185000  366650.944652\n",
       "15   44900  354545.831641\n",
       "16  106750  294020.266589\n",
       "17   58700  396913.727178\n",
       "18   67830  336388.162126\n",
       "19   27500  112443.571432\n",
       "20   12000  148758.910464\n",
       "21  195000  300072.823094\n",
       "22   12500  239547.258042\n",
       "23   50000  300072.823094\n",
       "24  205000  330335.605620\n",
       "25  160000  366650.944652\n",
       "26  690000  318230.492610\n",
       "27   85000  306125.379599\n",
       "28   48678  396913.727178\n",
       "29  480000  275862.597073"
      ]
     },
     "execution_count": 39,
     "metadata": {},
     "output_type": "execute_result"
    }
   ],
   "source": [
    "# Create a dataframe comparing the actual and predicted values of y.\n",
    "\n",
    "data = pd.DataFrame({'Actual': y_test.flatten(), 'Predicted': y_predicted.flatten()})\n",
    "data.head(30)"
   ]
  },
  {
   "cell_type": "code",
   "execution_count": 40,
   "id": "ef3b369d",
   "metadata": {},
   "outputs": [],
   "source": [
    "# as it was mentioned before due to low R2 which is 0.014 we see that there is very weak relationship between this values."
   ]
  },
  {
   "cell_type": "code",
   "execution_count": 41,
   "id": "3085dcdc",
   "metadata": {},
   "outputs": [],
   "source": [
    "# Training set prediction\n",
    "\n",
    "y_predicted_train = regression.predict(X_train) # This is predicting X_train!"
   ]
  },
  {
   "cell_type": "code",
   "execution_count": 42,
   "id": "d10394c6",
   "metadata": {},
   "outputs": [],
   "source": [
    "rmse = mean_squared_error(y_train, y_predicted_train)\n",
    "r2 = r2_score(y_train, y_predicted_train)"
   ]
  },
  {
   "cell_type": "code",
   "execution_count": 43,
   "id": "1c19ea5f",
   "metadata": {},
   "outputs": [
    {
     "name": "stdout",
     "output_type": "stream",
     "text": [
      "Slope: [[6052.55650522]]\n",
      "Mean squared error:  979741527689.3547\n",
      "R2 score:  0.009800643727093439\n"
     ]
    }
   ],
   "source": [
    "print('Slope:' ,regression.coef_)\n",
    "print('Mean squared error: ', rmse)\n",
    "print('R2 score: ', r2)"
   ]
  },
  {
   "cell_type": "markdown",
   "id": "409c0f26",
   "metadata": {},
   "source": [
    "# in the training set relation is even weaker due to lower R2 and higher Mean squared error value."
   ]
  },
  {
   "cell_type": "code",
   "execution_count": 44,
   "id": "ad81b036",
   "metadata": {},
   "outputs": [
    {
     "data": {
      "image/png": "[encoded data removed]",
      "text/plain": [
       "<Figure size 640x480 with 1 Axes>"
      ]
     },
     "metadata": {},
     "output_type": "display_data"
    }
   ],
   "source": [
    "# Create a plot that shows the regression line from the model on the test set.\n",
    "\n",
    "plot_test = plt\n",
    "plot_test.scatter(X_train, y_train, color='gray', s = 15)\n",
    "plot_test.plot(X_train, y_predicted_train, color='red', linewidth =3)\n",
    "plot_test.title('year_built vs value_in_eur (Train set)')\n",
    "plot_test.xlabel('year_built')\n",
    "plot_test.ylabel('value_in_eur')\n",
    "plot_test.show()"
   ]
  },
  {
   "cell_type": "markdown",
   "id": "b5278291",
   "metadata": {},
   "source": [
    "# same here. The hypothesis isnt wrong, however the trend is showing weak relationship. As mentioned before that could be due to different boat conditions. Therefore Analysis between different boat categories must be done in order to find out."
   ]
  },
  {
   "cell_type": "code",
   "execution_count": null,
   "id": "c05cd963",
   "metadata": {},
   "outputs": [],
   "source": []
  },
  {
   "cell_type": "markdown",
   "id": "feb6d4be",
   "metadata": {},
   "source": [
    "# conlcusion: \n",
    "# both models are not suitable for making a predictions "
   ]
  }
 ],
 "metadata": {
  "kernelspec": {
   "display_name": "Python 3 (ipykernel)",
   "language": "python",
   "name": "python3"
  },
  "language_info": {
   "codemirror_mode": {
    "name": "ipython",
    "version": 3
   },
   "file_extension": ".py",
   "mimetype": "text/x-python",
   "name": "python",
   "nbconvert_exporter": "python",
   "pygments_lexer": "ipython3",
   "version": "3.9.13"
  }
 },
 "nbformat": 4,
 "nbformat_minor": 5
}
