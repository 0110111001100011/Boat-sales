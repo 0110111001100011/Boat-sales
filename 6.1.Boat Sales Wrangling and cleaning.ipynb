{
 "cells": [
  {
   "cell_type": "markdown",
   "id": "fc633165",
   "metadata": {},
   "source": [
    "#### Importing libraries, defining path and importing the raw csv data"
   ]
  },
  {
   "cell_type": "code",
   "execution_count": 1,
   "id": "59352f1e",
   "metadata": {},
   "outputs": [],
   "source": [
    "#importing libraries\n",
    "import pandas as pd\n",
    "import numpy as np\n",
    "import os\n",
    "import matplotlib.pyplot as plt\n",
    "import seaborn as sns\n",
    "import scipy"
   ]
  },
  {
   "cell_type": "code",
   "execution_count": 2,
   "id": "f10cf565",
   "metadata": {},
   "outputs": [],
   "source": [
    "# defining path\n",
    "path =r'C:\\Users\\dog\\Desktop\\Boat sales'"
   ]
  },
  {
   "cell_type": "code",
   "execution_count": 3,
   "id": "47aebd50",
   "metadata": {},
   "outputs": [],
   "source": [
    "# importing raw data\n",
    "df_boats_raw = pd.read_csv(os.path.join(path, '01 Raw Data', 'boat_data.csv'))"
   ]
  },
  {
   "cell_type": "markdown",
   "id": "5a41f1c0",
   "metadata": {},
   "source": [
    "#### checking data and potential data issues"
   ]
  },
  {
   "cell_type": "code",
   "execution_count": 4,
   "id": "967537f9",
   "metadata": {
    "scrolled": true
   },
   "outputs": [
    {
     "data": {
      "text/html": [
       "<div>\n",
       "<style scoped>\n",
       "    .dataframe tbody tr th:only-of-type {\n",
       "        vertical-align: middle;\n",
       "    }\n",
       "\n",
       "    .dataframe tbody tr th {\n",
       "        vertical-align: top;\n",
       "    }\n",
       "\n",
       "    .dataframe thead th {\n",
       "        text-align: right;\n",
       "    }\n",
       "</style>\n",
       "<table border=\"1\" class=\"dataframe\">\n",
       "  <thead>\n",
       "    <tr style=\"text-align: right;\">\n",
       "      <th></th>\n",
       "      <th>Price</th>\n",
       "      <th>Boat Type</th>\n",
       "      <th>Manufacturer</th>\n",
       "      <th>Type</th>\n",
       "      <th>Year Built</th>\n",
       "      <th>Length</th>\n",
       "      <th>Width</th>\n",
       "      <th>Material</th>\n",
       "      <th>Location</th>\n",
       "      <th>Number of views last 7 days</th>\n",
       "    </tr>\n",
       "  </thead>\n",
       "  <tbody>\n",
       "    <tr>\n",
       "      <th>0</th>\n",
       "      <td>CHF 3337</td>\n",
       "      <td>Motor Yacht</td>\n",
       "      <td>Rigiflex power boats</td>\n",
       "      <td>new boat from stock</td>\n",
       "      <td>2017</td>\n",
       "      <td>4.00</td>\n",
       "      <td>1.90</td>\n",
       "      <td>NaN</td>\n",
       "      <td>Switzerland Â» Lake Geneva Â» VÃ©senaz</td>\n",
       "      <td>226</td>\n",
       "    </tr>\n",
       "    <tr>\n",
       "      <th>1</th>\n",
       "      <td>EUR 3490</td>\n",
       "      <td>Center console boat</td>\n",
       "      <td>Terhi power boats</td>\n",
       "      <td>new boat from stock</td>\n",
       "      <td>2020</td>\n",
       "      <td>4.00</td>\n",
       "      <td>1.50</td>\n",
       "      <td>Thermoplastic</td>\n",
       "      <td>Germany Â» BÃ¶nningstedt</td>\n",
       "      <td>75</td>\n",
       "    </tr>\n",
       "    <tr>\n",
       "      <th>2</th>\n",
       "      <td>CHF 3770</td>\n",
       "      <td>Sport Boat</td>\n",
       "      <td>Marine power boats</td>\n",
       "      <td>new boat from stock</td>\n",
       "      <td>0</td>\n",
       "      <td>3.69</td>\n",
       "      <td>1.42</td>\n",
       "      <td>Aluminium</td>\n",
       "      <td>Switzerland Â» Lake of Zurich Â» StÃ¤fa ZH</td>\n",
       "      <td>124</td>\n",
       "    </tr>\n",
       "    <tr>\n",
       "      <th>3</th>\n",
       "      <td>DKK 25900</td>\n",
       "      <td>Sport Boat</td>\n",
       "      <td>Pioner power boats</td>\n",
       "      <td>new boat from stock</td>\n",
       "      <td>2020</td>\n",
       "      <td>3.00</td>\n",
       "      <td>1.00</td>\n",
       "      <td>NaN</td>\n",
       "      <td>Denmark Â» Svendborg</td>\n",
       "      <td>64</td>\n",
       "    </tr>\n",
       "    <tr>\n",
       "      <th>4</th>\n",
       "      <td>EUR 3399</td>\n",
       "      <td>Fishing Boat</td>\n",
       "      <td>Linder power boats</td>\n",
       "      <td>new boat from stock</td>\n",
       "      <td>2019</td>\n",
       "      <td>3.55</td>\n",
       "      <td>1.46</td>\n",
       "      <td>Aluminium</td>\n",
       "      <td>Germany Â» Bayern Â» MÃ¼nchen</td>\n",
       "      <td>58</td>\n",
       "    </tr>\n",
       "  </tbody>\n",
       "</table>\n",
       "</div>"
      ],
      "text/plain": [
       "       Price            Boat Type          Manufacturer                 Type  \\\n",
       "0   CHF 3337          Motor Yacht  Rigiflex power boats  new boat from stock   \n",
       "1   EUR 3490  Center console boat     Terhi power boats  new boat from stock   \n",
       "2   CHF 3770           Sport Boat    Marine power boats  new boat from stock   \n",
       "3  DKK 25900           Sport Boat    Pioner power boats  new boat from stock   \n",
       "4   EUR 3399         Fishing Boat    Linder power boats  new boat from stock   \n",
       "\n",
       "   Year Built  Length  Width       Material  \\\n",
       "0        2017    4.00   1.90            NaN   \n",
       "1        2020    4.00   1.50  Thermoplastic   \n",
       "2           0    3.69   1.42      Aluminium   \n",
       "3        2020    3.00   1.00            NaN   \n",
       "4        2019    3.55   1.46      Aluminium   \n",
       "\n",
       "                                     Location  Number of views last 7 days  \n",
       "0      Switzerland Â» Lake Geneva Â» VÃ©senaz                          226  \n",
       "1                    Germany Â» BÃ¶nningstedt                           75  \n",
       "2  Switzerland Â» Lake of Zurich Â» StÃ¤fa ZH                          124  \n",
       "3                        Denmark Â» Svendborg                           64  \n",
       "4               Germany Â» Bayern Â» MÃ¼nchen                           58  "
      ]
     },
     "execution_count": 4,
     "metadata": {},
     "output_type": "execute_result"
    }
   ],
   "source": [
    "# checking imported data and searching for issues\n",
    "df_boats_raw.head()"
   ]
  },
  {
   "cell_type": "markdown",
   "id": "1d1aa140",
   "metadata": {},
   "source": [
    "1. Price column  must be devided into two separate columns in order to be able work with variables\n",
    "2. Location column  seems to use special symbols, which we are unable to implement into Geolocations later, therefore must be removed and converted into countries we can use"
   ]
  },
  {
   "cell_type": "code",
   "execution_count": 5,
   "id": "657d895c",
   "metadata": {
    "scrolled": false
   },
   "outputs": [
    {
     "name": "stdout",
     "output_type": "stream",
     "text": [
      "<class 'pandas.core.frame.DataFrame'>\n",
      "RangeIndex: 9888 entries, 0 to 9887\n",
      "Data columns (total 10 columns):\n",
      " #   Column                       Non-Null Count  Dtype  \n",
      "---  ------                       --------------  -----  \n",
      " 0   Price                        9888 non-null   object \n",
      " 1   Boat Type                    9888 non-null   object \n",
      " 2   Manufacturer                 8550 non-null   object \n",
      " 3   Type                         9882 non-null   object \n",
      " 4   Year Built                   9888 non-null   int64  \n",
      " 5   Length                       9879 non-null   float64\n",
      " 6   Width                        9832 non-null   float64\n",
      " 7   Material                     8139 non-null   object \n",
      " 8   Location                     9852 non-null   object \n",
      " 9   Number of views last 7 days  9888 non-null   int64  \n",
      "dtypes: float64(2), int64(2), object(6)\n",
      "memory usage: 772.6+ KB\n"
     ]
    }
   ],
   "source": [
    "df_boats_raw.info()"
   ]
  },
  {
   "cell_type": "markdown",
   "id": "d3b89d98",
   "metadata": {},
   "source": [
    "3. Format of the price must be changed to int64 after  splitting into currency and values columns"
   ]
  },
  {
   "cell_type": "code",
   "execution_count": 6,
   "id": "4b02855a",
   "metadata": {
    "scrolled": true
   },
   "outputs": [
    {
     "data": {
      "text/plain": [
       "Price                             0\n",
       "Boat Type                         0\n",
       "Manufacturer                   1338\n",
       "Type                              6\n",
       "Year Built                        0\n",
       "Length                            9\n",
       "Width                            56\n",
       "Material                       1749\n",
       "Location                         36\n",
       "Number of views last 7 days       0\n",
       "dtype: int64"
      ]
     },
     "execution_count": 6,
     "metadata": {},
     "output_type": "execute_result"
    }
   ],
   "source": [
    "df_boats_raw.isnull().sum()"
   ]
  },
  {
   "cell_type": "code",
   "execution_count": 7,
   "id": "dd94c5c3",
   "metadata": {},
   "outputs": [
    {
     "name": "stderr",
     "output_type": "stream",
     "text": [
      "C:\\Users\\dog\\anaconda3\\lib\\site-packages\\seaborn\\_decorators.py:36: FutureWarning: Pass the following variable as a keyword arg: x. From version 0.12, the only valid positional argument will be `data`, and passing other arguments without an explicit keyword will result in an error or misinterpretation.\n",
      "  warnings.warn(\n"
     ]
    },
    {
     "data": {
      "text/plain": [
       "<AxesSubplot:xlabel='Width'>"
      ]
     },
     "execution_count": 7,
     "metadata": {},
     "output_type": "execute_result"
    },
    {
     "data": {
      "image/png": "[encoded data removed]",
      "text/plain": [
       "<Figure size 640x480 with 1 Axes>"
      ]
     },
     "metadata": {},
     "output_type": "display_data"
    }
   ],
   "source": [
    "# checking what to use for imputation of width and length\n",
    "sns.boxplot(df_boats_raw.Width)"
   ]
  },
  {
   "cell_type": "code",
   "execution_count": 8,
   "id": "f4cfaff5",
   "metadata": {},
   "outputs": [
    {
     "name": "stderr",
     "output_type": "stream",
     "text": [
      "C:\\Users\\dog\\anaconda3\\lib\\site-packages\\seaborn\\_decorators.py:36: FutureWarning: Pass the following variable as a keyword arg: x. From version 0.12, the only valid positional argument will be `data`, and passing other arguments without an explicit keyword will result in an error or misinterpretation.\n",
      "  warnings.warn(\n"
     ]
    },
    {
     "data": {
      "text/plain": [
       "<AxesSubplot:xlabel='Length'>"
      ]
     },
     "execution_count": 8,
     "metadata": {},
     "output_type": "execute_result"
    },
    {
     "data": {
      "image/png": "[encoded data removed]",
      "text/plain": [
       "<Figure size 640x480 with 1 Axes>"
      ]
     },
     "metadata": {},
     "output_type": "display_data"
    }
   ],
   "source": [
    "sns.boxplot(df_boats_raw.Length)"
   ]
  },
  {
   "cell_type": "markdown",
   "id": "ca6f8c28",
   "metadata": {},
   "source": [
    "4. Missing manufacturer must be changed to unknown in order to be able work with the data\n",
    "5. Missing Matterial values must be changed to uknnown in order to be able work with the data\n",
    "6. Missing Length can be replaced with median due to outliers\n",
    "7. Missing Width can be replaced with the median due to outliers \n",
    "8. due to different currencies data must be changed to one price format so that it is possible to use it"
   ]
  },
  {
   "cell_type": "markdown",
   "id": "2d1629a8",
   "metadata": {},
   "source": [
    "#### Wrangling data and creating new variables"
   ]
  },
  {
   "cell_type": "code",
   "execution_count": 9,
   "id": "489a72cd",
   "metadata": {},
   "outputs": [],
   "source": [
    "# checking for duplicates"
   ]
  },
  {
   "cell_type": "code",
   "execution_count": 10,
   "id": "fe5dddcd",
   "metadata": {},
   "outputs": [],
   "source": [
    "df_boats_raw_checked = df_boats_raw[df_boats_raw.duplicated()]"
   ]
  },
  {
   "cell_type": "code",
   "execution_count": 11,
   "id": "ed6e4947",
   "metadata": {
    "scrolled": true
   },
   "outputs": [
    {
     "data": {
      "text/html": [
       "<div>\n",
       "<style scoped>\n",
       "    .dataframe tbody tr th:only-of-type {\n",
       "        vertical-align: middle;\n",
       "    }\n",
       "\n",
       "    .dataframe tbody tr th {\n",
       "        vertical-align: top;\n",
       "    }\n",
       "\n",
       "    .dataframe thead th {\n",
       "        text-align: right;\n",
       "    }\n",
       "</style>\n",
       "<table border=\"1\" class=\"dataframe\">\n",
       "  <thead>\n",
       "    <tr style=\"text-align: right;\">\n",
       "      <th></th>\n",
       "      <th>Price</th>\n",
       "      <th>Boat Type</th>\n",
       "      <th>Manufacturer</th>\n",
       "      <th>Type</th>\n",
       "      <th>Year Built</th>\n",
       "      <th>Length</th>\n",
       "      <th>Width</th>\n",
       "      <th>Material</th>\n",
       "      <th>Location</th>\n",
       "      <th>Number of views last 7 days</th>\n",
       "    </tr>\n",
       "  </thead>\n",
       "  <tbody>\n",
       "  </tbody>\n",
       "</table>\n",
       "</div>"
      ],
      "text/plain": [
       "Empty DataFrame\n",
       "Columns: [Price, Boat Type, Manufacturer, Type, Year Built, Length, Width, Material, Location, Number of views last 7 days]\n",
       "Index: []"
      ]
     },
     "execution_count": 11,
     "metadata": {},
     "output_type": "execute_result"
    }
   ],
   "source": [
    "df_boats_raw_checked.head()"
   ]
  },
  {
   "cell_type": "code",
   "execution_count": 12,
   "id": "7db8d23b",
   "metadata": {},
   "outputs": [],
   "source": [
    "# no duplicates are found"
   ]
  },
  {
   "cell_type": "code",
   "execution_count": 13,
   "id": "44369060",
   "metadata": {},
   "outputs": [],
   "source": [
    "# implacing missing length data\n",
    "df_boats_raw['Length'] = df_boats_raw['Length'].fillna(df_boats_raw['Length'].median())"
   ]
  },
  {
   "cell_type": "code",
   "execution_count": 14,
   "id": "6bcd592e",
   "metadata": {},
   "outputs": [],
   "source": [
    "# implacing missing width data\n",
    "df_boats_raw['Width'] = df_boats_raw['Width'].fillna(df_boats_raw['Length'].median())"
   ]
  },
  {
   "cell_type": "code",
   "execution_count": 15,
   "id": "97ae9b4e",
   "metadata": {},
   "outputs": [],
   "source": [
    "# implacing missing manufacturer with uknnown \n",
    "df_boats_raw['Manufacturer'].fillna('unknown', inplace=True)"
   ]
  },
  {
   "cell_type": "code",
   "execution_count": 16,
   "id": "a6b34d88",
   "metadata": {},
   "outputs": [],
   "source": [
    "# implacing missing Material data with uknnown\n",
    "df_boats_raw['Material'].fillna('unknown', inplace=True)"
   ]
  },
  {
   "cell_type": "code",
   "execution_count": 17,
   "id": "8254eba9",
   "metadata": {},
   "outputs": [],
   "source": [
    "# deviding Price column into 2 new columns\n",
    "df_boats_raw[['currency','value']]= df_boats_raw['Price'].str.split(' ', 1, expand=True)"
   ]
  },
  {
   "cell_type": "code",
   "execution_count": 18,
   "id": "18173e9a",
   "metadata": {
    "scrolled": true
   },
   "outputs": [
    {
     "name": "stdout",
     "output_type": "stream",
     "text": [
      "<class 'pandas.core.frame.DataFrame'>\n",
      "RangeIndex: 9888 entries, 0 to 9887\n",
      "Data columns (total 12 columns):\n",
      " #   Column                       Non-Null Count  Dtype  \n",
      "---  ------                       --------------  -----  \n",
      " 0   Price                        9888 non-null   object \n",
      " 1   Boat Type                    9888 non-null   object \n",
      " 2   Manufacturer                 9888 non-null   object \n",
      " 3   Type                         9882 non-null   object \n",
      " 4   Year Built                   9888 non-null   int64  \n",
      " 5   Length                       9888 non-null   float64\n",
      " 6   Width                        9888 non-null   float64\n",
      " 7   Material                     9888 non-null   object \n",
      " 8   Location                     9852 non-null   object \n",
      " 9   Number of views last 7 days  9888 non-null   int64  \n",
      " 10  currency                     9888 non-null   object \n",
      " 11  value                        9888 non-null   object \n",
      "dtypes: float64(2), int64(2), object(8)\n",
      "memory usage: 927.1+ KB\n"
     ]
    }
   ],
   "source": [
    "# checking if new columns were added\n",
    "df_boats_raw.info()"
   ]
  },
  {
   "cell_type": "code",
   "execution_count": 19,
   "id": "e0494422",
   "metadata": {
    "scrolled": true
   },
   "outputs": [
    {
     "data": {
      "text/html": [
       "<div>\n",
       "<style scoped>\n",
       "    .dataframe tbody tr th:only-of-type {\n",
       "        vertical-align: middle;\n",
       "    }\n",
       "\n",
       "    .dataframe tbody tr th {\n",
       "        vertical-align: top;\n",
       "    }\n",
       "\n",
       "    .dataframe thead th {\n",
       "        text-align: right;\n",
       "    }\n",
       "</style>\n",
       "<table border=\"1\" class=\"dataframe\">\n",
       "  <thead>\n",
       "    <tr style=\"text-align: right;\">\n",
       "      <th></th>\n",
       "      <th>Price</th>\n",
       "      <th>Boat Type</th>\n",
       "      <th>Manufacturer</th>\n",
       "      <th>Type</th>\n",
       "      <th>Year Built</th>\n",
       "      <th>Length</th>\n",
       "      <th>Width</th>\n",
       "      <th>Material</th>\n",
       "      <th>Location</th>\n",
       "      <th>Number of views last 7 days</th>\n",
       "      <th>currency</th>\n",
       "      <th>value</th>\n",
       "    </tr>\n",
       "  </thead>\n",
       "  <tbody>\n",
       "    <tr>\n",
       "      <th>0</th>\n",
       "      <td>CHF 3337</td>\n",
       "      <td>Motor Yacht</td>\n",
       "      <td>Rigiflex power boats</td>\n",
       "      <td>new boat from stock</td>\n",
       "      <td>2017</td>\n",
       "      <td>4.00</td>\n",
       "      <td>1.90</td>\n",
       "      <td>unknown</td>\n",
       "      <td>Switzerland Â» Lake Geneva Â» VÃ©senaz</td>\n",
       "      <td>226</td>\n",
       "      <td>CHF</td>\n",
       "      <td>3337</td>\n",
       "    </tr>\n",
       "    <tr>\n",
       "      <th>1</th>\n",
       "      <td>EUR 3490</td>\n",
       "      <td>Center console boat</td>\n",
       "      <td>Terhi power boats</td>\n",
       "      <td>new boat from stock</td>\n",
       "      <td>2020</td>\n",
       "      <td>4.00</td>\n",
       "      <td>1.50</td>\n",
       "      <td>Thermoplastic</td>\n",
       "      <td>Germany Â» BÃ¶nningstedt</td>\n",
       "      <td>75</td>\n",
       "      <td>EUR</td>\n",
       "      <td>3490</td>\n",
       "    </tr>\n",
       "    <tr>\n",
       "      <th>2</th>\n",
       "      <td>CHF 3770</td>\n",
       "      <td>Sport Boat</td>\n",
       "      <td>Marine power boats</td>\n",
       "      <td>new boat from stock</td>\n",
       "      <td>0</td>\n",
       "      <td>3.69</td>\n",
       "      <td>1.42</td>\n",
       "      <td>Aluminium</td>\n",
       "      <td>Switzerland Â» Lake of Zurich Â» StÃ¤fa ZH</td>\n",
       "      <td>124</td>\n",
       "      <td>CHF</td>\n",
       "      <td>3770</td>\n",
       "    </tr>\n",
       "    <tr>\n",
       "      <th>3</th>\n",
       "      <td>DKK 25900</td>\n",
       "      <td>Sport Boat</td>\n",
       "      <td>Pioner power boats</td>\n",
       "      <td>new boat from stock</td>\n",
       "      <td>2020</td>\n",
       "      <td>3.00</td>\n",
       "      <td>1.00</td>\n",
       "      <td>unknown</td>\n",
       "      <td>Denmark Â» Svendborg</td>\n",
       "      <td>64</td>\n",
       "      <td>DKK</td>\n",
       "      <td>25900</td>\n",
       "    </tr>\n",
       "    <tr>\n",
       "      <th>4</th>\n",
       "      <td>EUR 3399</td>\n",
       "      <td>Fishing Boat</td>\n",
       "      <td>Linder power boats</td>\n",
       "      <td>new boat from stock</td>\n",
       "      <td>2019</td>\n",
       "      <td>3.55</td>\n",
       "      <td>1.46</td>\n",
       "      <td>Aluminium</td>\n",
       "      <td>Germany Â» Bayern Â» MÃ¼nchen</td>\n",
       "      <td>58</td>\n",
       "      <td>EUR</td>\n",
       "      <td>3399</td>\n",
       "    </tr>\n",
       "  </tbody>\n",
       "</table>\n",
       "</div>"
      ],
      "text/plain": [
       "       Price            Boat Type          Manufacturer                 Type  \\\n",
       "0   CHF 3337          Motor Yacht  Rigiflex power boats  new boat from stock   \n",
       "1   EUR 3490  Center console boat     Terhi power boats  new boat from stock   \n",
       "2   CHF 3770           Sport Boat    Marine power boats  new boat from stock   \n",
       "3  DKK 25900           Sport Boat    Pioner power boats  new boat from stock   \n",
       "4   EUR 3399         Fishing Boat    Linder power boats  new boat from stock   \n",
       "\n",
       "   Year Built  Length  Width       Material  \\\n",
       "0        2017    4.00   1.90        unknown   \n",
       "1        2020    4.00   1.50  Thermoplastic   \n",
       "2           0    3.69   1.42      Aluminium   \n",
       "3        2020    3.00   1.00        unknown   \n",
       "4        2019    3.55   1.46      Aluminium   \n",
       "\n",
       "                                     Location  Number of views last 7 days  \\\n",
       "0      Switzerland Â» Lake Geneva Â» VÃ©senaz                          226   \n",
       "1                    Germany Â» BÃ¶nningstedt                           75   \n",
       "2  Switzerland Â» Lake of Zurich Â» StÃ¤fa ZH                          124   \n",
       "3                        Denmark Â» Svendborg                           64   \n",
       "4               Germany Â» Bayern Â» MÃ¼nchen                           58   \n",
       "\n",
       "  currency  value  \n",
       "0      CHF   3337  \n",
       "1      EUR   3490  \n",
       "2      CHF   3770  \n",
       "3      DKK  25900  \n",
       "4      EUR   3399  "
      ]
     },
     "execution_count": 19,
     "metadata": {},
     "output_type": "execute_result"
    }
   ],
   "source": [
    "# checking if that was devided correctly\n",
    "df_boats_raw.head()"
   ]
  },
  {
   "cell_type": "code",
   "execution_count": 20,
   "id": "46c9d630",
   "metadata": {},
   "outputs": [],
   "source": [
    "#dropping unnecessary column\n",
    "df_boats_raw.drop(labels=['Price'], axis=1, inplace=True)"
   ]
  },
  {
   "cell_type": "code",
   "execution_count": 21,
   "id": "2190adb9",
   "metadata": {
    "scrolled": true
   },
   "outputs": [
    {
     "data": {
      "text/plain": [
       "EUR    8430\n",
       "CHF     980\n",
       "Â£      298\n",
       "DKK     180\n",
       "Name: currency, dtype: int64"
      ]
     },
     "execution_count": 21,
     "metadata": {},
     "output_type": "execute_result"
    }
   ],
   "source": [
    "df_boats_raw['currency'].value_counts(dropna = False)"
   ]
  },
  {
   "cell_type": "code",
   "execution_count": 22,
   "id": "a74f53ff",
   "metadata": {},
   "outputs": [],
   "source": [
    "# creating another column with converted currency\n",
    "def price_in_eur(currency, value):\n",
    "    if currency in ('EUR', 'CHF', np.nan):\n",
    "        return value\n",
    "    elif currency == 'DKK':\n",
    "        return value * 0.13\n",
    "    elif currency == 'Â£':\n",
    "        return value * 1.14"
   ]
  },
  {
   "cell_type": "code",
   "execution_count": 23,
   "id": "4e3f7e87",
   "metadata": {},
   "outputs": [],
   "source": [
    "df_boats_raw['value']=df_boats_raw['value'].astype(np.int64)"
   ]
  },
  {
   "cell_type": "code",
   "execution_count": 24,
   "id": "cada50f3",
   "metadata": {},
   "outputs": [],
   "source": [
    "df_boats_raw['value_in_eur'] = df_boats_raw.apply(lambda x: price_in_eur(x['currency'], x['value']), axis=1)\n"
   ]
  },
  {
   "cell_type": "code",
   "execution_count": 25,
   "id": "64d43a81",
   "metadata": {
    "scrolled": true
   },
   "outputs": [
    {
     "data": {
      "text/html": [
       "<div>\n",
       "<style scoped>\n",
       "    .dataframe tbody tr th:only-of-type {\n",
       "        vertical-align: middle;\n",
       "    }\n",
       "\n",
       "    .dataframe tbody tr th {\n",
       "        vertical-align: top;\n",
       "    }\n",
       "\n",
       "    .dataframe thead th {\n",
       "        text-align: right;\n",
       "    }\n",
       "</style>\n",
       "<table border=\"1\" class=\"dataframe\">\n",
       "  <thead>\n",
       "    <tr style=\"text-align: right;\">\n",
       "      <th></th>\n",
       "      <th>Boat Type</th>\n",
       "      <th>Manufacturer</th>\n",
       "      <th>Type</th>\n",
       "      <th>Year Built</th>\n",
       "      <th>Length</th>\n",
       "      <th>Width</th>\n",
       "      <th>Material</th>\n",
       "      <th>Location</th>\n",
       "      <th>Number of views last 7 days</th>\n",
       "      <th>currency</th>\n",
       "      <th>value</th>\n",
       "      <th>value_in_eur</th>\n",
       "    </tr>\n",
       "  </thead>\n",
       "  <tbody>\n",
       "    <tr>\n",
       "      <th>0</th>\n",
       "      <td>Motor Yacht</td>\n",
       "      <td>Rigiflex power boats</td>\n",
       "      <td>new boat from stock</td>\n",
       "      <td>2017</td>\n",
       "      <td>4.00</td>\n",
       "      <td>1.90</td>\n",
       "      <td>unknown</td>\n",
       "      <td>Switzerland Â» Lake Geneva Â» VÃ©senaz</td>\n",
       "      <td>226</td>\n",
       "      <td>CHF</td>\n",
       "      <td>3337</td>\n",
       "      <td>3337.0</td>\n",
       "    </tr>\n",
       "    <tr>\n",
       "      <th>1</th>\n",
       "      <td>Center console boat</td>\n",
       "      <td>Terhi power boats</td>\n",
       "      <td>new boat from stock</td>\n",
       "      <td>2020</td>\n",
       "      <td>4.00</td>\n",
       "      <td>1.50</td>\n",
       "      <td>Thermoplastic</td>\n",
       "      <td>Germany Â» BÃ¶nningstedt</td>\n",
       "      <td>75</td>\n",
       "      <td>EUR</td>\n",
       "      <td>3490</td>\n",
       "      <td>3490.0</td>\n",
       "    </tr>\n",
       "    <tr>\n",
       "      <th>2</th>\n",
       "      <td>Sport Boat</td>\n",
       "      <td>Marine power boats</td>\n",
       "      <td>new boat from stock</td>\n",
       "      <td>0</td>\n",
       "      <td>3.69</td>\n",
       "      <td>1.42</td>\n",
       "      <td>Aluminium</td>\n",
       "      <td>Switzerland Â» Lake of Zurich Â» StÃ¤fa ZH</td>\n",
       "      <td>124</td>\n",
       "      <td>CHF</td>\n",
       "      <td>3770</td>\n",
       "      <td>3770.0</td>\n",
       "    </tr>\n",
       "    <tr>\n",
       "      <th>3</th>\n",
       "      <td>Sport Boat</td>\n",
       "      <td>Pioner power boats</td>\n",
       "      <td>new boat from stock</td>\n",
       "      <td>2020</td>\n",
       "      <td>3.00</td>\n",
       "      <td>1.00</td>\n",
       "      <td>unknown</td>\n",
       "      <td>Denmark Â» Svendborg</td>\n",
       "      <td>64</td>\n",
       "      <td>DKK</td>\n",
       "      <td>25900</td>\n",
       "      <td>3367.0</td>\n",
       "    </tr>\n",
       "    <tr>\n",
       "      <th>4</th>\n",
       "      <td>Fishing Boat</td>\n",
       "      <td>Linder power boats</td>\n",
       "      <td>new boat from stock</td>\n",
       "      <td>2019</td>\n",
       "      <td>3.55</td>\n",
       "      <td>1.46</td>\n",
       "      <td>Aluminium</td>\n",
       "      <td>Germany Â» Bayern Â» MÃ¼nchen</td>\n",
       "      <td>58</td>\n",
       "      <td>EUR</td>\n",
       "      <td>3399</td>\n",
       "      <td>3399.0</td>\n",
       "    </tr>\n",
       "  </tbody>\n",
       "</table>\n",
       "</div>"
      ],
      "text/plain": [
       "             Boat Type          Manufacturer                 Type  Year Built  \\\n",
       "0          Motor Yacht  Rigiflex power boats  new boat from stock        2017   \n",
       "1  Center console boat     Terhi power boats  new boat from stock        2020   \n",
       "2           Sport Boat    Marine power boats  new boat from stock           0   \n",
       "3           Sport Boat    Pioner power boats  new boat from stock        2020   \n",
       "4         Fishing Boat    Linder power boats  new boat from stock        2019   \n",
       "\n",
       "   Length  Width       Material                                    Location  \\\n",
       "0    4.00   1.90        unknown      Switzerland Â» Lake Geneva Â» VÃ©senaz   \n",
       "1    4.00   1.50  Thermoplastic                    Germany Â» BÃ¶nningstedt   \n",
       "2    3.69   1.42      Aluminium  Switzerland Â» Lake of Zurich Â» StÃ¤fa ZH   \n",
       "3    3.00   1.00        unknown                        Denmark Â» Svendborg   \n",
       "4    3.55   1.46      Aluminium               Germany Â» Bayern Â» MÃ¼nchen   \n",
       "\n",
       "   Number of views last 7 days currency  value  value_in_eur  \n",
       "0                          226      CHF   3337        3337.0  \n",
       "1                           75      EUR   3490        3490.0  \n",
       "2                          124      CHF   3770        3770.0  \n",
       "3                           64      DKK  25900        3367.0  \n",
       "4                           58      EUR   3399        3399.0  "
      ]
     },
     "execution_count": 25,
     "metadata": {},
     "output_type": "execute_result"
    }
   ],
   "source": [
    "df_boats_raw.head()"
   ]
  },
  {
   "cell_type": "code",
   "execution_count": 26,
   "id": "79a8bf47",
   "metadata": {},
   "outputs": [],
   "source": [
    "# changing column type to string\n",
    "df_boats_raw['Location']=df_boats_raw['Location'].astype(str)"
   ]
  },
  {
   "cell_type": "code",
   "execution_count": 27,
   "id": "0d46e002",
   "metadata": {},
   "outputs": [],
   "source": [
    "# separating columns into country and the rest of the data\n",
    "df_boats_raw[['Country','City and state']]= df_boats_raw['Location'].str.split('Â»', 1, expand=True)"
   ]
  },
  {
   "cell_type": "code",
   "execution_count": 28,
   "id": "82dab795",
   "metadata": {
    "scrolled": false
   },
   "outputs": [
    {
     "data": {
      "text/html": [
       "<div>\n",
       "<style scoped>\n",
       "    .dataframe tbody tr th:only-of-type {\n",
       "        vertical-align: middle;\n",
       "    }\n",
       "\n",
       "    .dataframe tbody tr th {\n",
       "        vertical-align: top;\n",
       "    }\n",
       "\n",
       "    .dataframe thead th {\n",
       "        text-align: right;\n",
       "    }\n",
       "</style>\n",
       "<table border=\"1\" class=\"dataframe\">\n",
       "  <thead>\n",
       "    <tr style=\"text-align: right;\">\n",
       "      <th></th>\n",
       "      <th>Boat Type</th>\n",
       "      <th>Manufacturer</th>\n",
       "      <th>Type</th>\n",
       "      <th>Year Built</th>\n",
       "      <th>Length</th>\n",
       "      <th>Width</th>\n",
       "      <th>Material</th>\n",
       "      <th>Location</th>\n",
       "      <th>Number of views last 7 days</th>\n",
       "      <th>currency</th>\n",
       "      <th>value</th>\n",
       "      <th>value_in_eur</th>\n",
       "      <th>Country</th>\n",
       "      <th>City and state</th>\n",
       "    </tr>\n",
       "  </thead>\n",
       "  <tbody>\n",
       "    <tr>\n",
       "      <th>0</th>\n",
       "      <td>Motor Yacht</td>\n",
       "      <td>Rigiflex power boats</td>\n",
       "      <td>new boat from stock</td>\n",
       "      <td>2017</td>\n",
       "      <td>4.00</td>\n",
       "      <td>1.90</td>\n",
       "      <td>unknown</td>\n",
       "      <td>Switzerland Â» Lake Geneva Â» VÃ©senaz</td>\n",
       "      <td>226</td>\n",
       "      <td>CHF</td>\n",
       "      <td>3337</td>\n",
       "      <td>3337.0</td>\n",
       "      <td>Switzerland</td>\n",
       "      <td>Lake Geneva Â» VÃ©senaz</td>\n",
       "    </tr>\n",
       "    <tr>\n",
       "      <th>1</th>\n",
       "      <td>Center console boat</td>\n",
       "      <td>Terhi power boats</td>\n",
       "      <td>new boat from stock</td>\n",
       "      <td>2020</td>\n",
       "      <td>4.00</td>\n",
       "      <td>1.50</td>\n",
       "      <td>Thermoplastic</td>\n",
       "      <td>Germany Â» BÃ¶nningstedt</td>\n",
       "      <td>75</td>\n",
       "      <td>EUR</td>\n",
       "      <td>3490</td>\n",
       "      <td>3490.0</td>\n",
       "      <td>Germany</td>\n",
       "      <td>BÃ¶nningstedt</td>\n",
       "    </tr>\n",
       "    <tr>\n",
       "      <th>2</th>\n",
       "      <td>Sport Boat</td>\n",
       "      <td>Marine power boats</td>\n",
       "      <td>new boat from stock</td>\n",
       "      <td>0</td>\n",
       "      <td>3.69</td>\n",
       "      <td>1.42</td>\n",
       "      <td>Aluminium</td>\n",
       "      <td>Switzerland Â» Lake of Zurich Â» StÃ¤fa ZH</td>\n",
       "      <td>124</td>\n",
       "      <td>CHF</td>\n",
       "      <td>3770</td>\n",
       "      <td>3770.0</td>\n",
       "      <td>Switzerland</td>\n",
       "      <td>Lake of Zurich Â» StÃ¤fa ZH</td>\n",
       "    </tr>\n",
       "    <tr>\n",
       "      <th>3</th>\n",
       "      <td>Sport Boat</td>\n",
       "      <td>Pioner power boats</td>\n",
       "      <td>new boat from stock</td>\n",
       "      <td>2020</td>\n",
       "      <td>3.00</td>\n",
       "      <td>1.00</td>\n",
       "      <td>unknown</td>\n",
       "      <td>Denmark Â» Svendborg</td>\n",
       "      <td>64</td>\n",
       "      <td>DKK</td>\n",
       "      <td>25900</td>\n",
       "      <td>3367.0</td>\n",
       "      <td>Denmark</td>\n",
       "      <td>Svendborg</td>\n",
       "    </tr>\n",
       "    <tr>\n",
       "      <th>4</th>\n",
       "      <td>Fishing Boat</td>\n",
       "      <td>Linder power boats</td>\n",
       "      <td>new boat from stock</td>\n",
       "      <td>2019</td>\n",
       "      <td>3.55</td>\n",
       "      <td>1.46</td>\n",
       "      <td>Aluminium</td>\n",
       "      <td>Germany Â» Bayern Â» MÃ¼nchen</td>\n",
       "      <td>58</td>\n",
       "      <td>EUR</td>\n",
       "      <td>3399</td>\n",
       "      <td>3399.0</td>\n",
       "      <td>Germany</td>\n",
       "      <td>Bayern Â» MÃ¼nchen</td>\n",
       "    </tr>\n",
       "  </tbody>\n",
       "</table>\n",
       "</div>"
      ],
      "text/plain": [
       "             Boat Type          Manufacturer                 Type  Year Built  \\\n",
       "0          Motor Yacht  Rigiflex power boats  new boat from stock        2017   \n",
       "1  Center console boat     Terhi power boats  new boat from stock        2020   \n",
       "2           Sport Boat    Marine power boats  new boat from stock           0   \n",
       "3           Sport Boat    Pioner power boats  new boat from stock        2020   \n",
       "4         Fishing Boat    Linder power boats  new boat from stock        2019   \n",
       "\n",
       "   Length  Width       Material                                    Location  \\\n",
       "0    4.00   1.90        unknown      Switzerland Â» Lake Geneva Â» VÃ©senaz   \n",
       "1    4.00   1.50  Thermoplastic                    Germany Â» BÃ¶nningstedt   \n",
       "2    3.69   1.42      Aluminium  Switzerland Â» Lake of Zurich Â» StÃ¤fa ZH   \n",
       "3    3.00   1.00        unknown                        Denmark Â» Svendborg   \n",
       "4    3.55   1.46      Aluminium               Germany Â» Bayern Â» MÃ¼nchen   \n",
       "\n",
       "   Number of views last 7 days currency  value  value_in_eur       Country  \\\n",
       "0                          226      CHF   3337        3337.0  Switzerland    \n",
       "1                           75      EUR   3490        3490.0      Germany    \n",
       "2                          124      CHF   3770        3770.0  Switzerland    \n",
       "3                           64      DKK  25900        3367.0      Denmark    \n",
       "4                           58      EUR   3399        3399.0      Germany    \n",
       "\n",
       "                 City and state  \n",
       "0       Lake Geneva Â» VÃ©senaz  \n",
       "1                 BÃ¶nningstedt  \n",
       "2   Lake of Zurich Â» StÃ¤fa ZH  \n",
       "3                     Svendborg  \n",
       "4            Bayern Â» MÃ¼nchen  "
      ]
     },
     "execution_count": 28,
     "metadata": {},
     "output_type": "execute_result"
    }
   ],
   "source": [
    "# checking if that worked out \n",
    "df_boats_raw.head()"
   ]
  },
  {
   "cell_type": "markdown",
   "id": "8d4352c7",
   "metadata": {},
   "source": [
    "due to problems in coding city and state it is impossible to extract cities and state, which enforce us to drop the columns"
   ]
  },
  {
   "cell_type": "code",
   "execution_count": 29,
   "id": "398adf0c",
   "metadata": {},
   "outputs": [],
   "source": [
    "df_boats_raw.drop(labels=['City and state'], axis=1, inplace=True)"
   ]
  },
  {
   "cell_type": "code",
   "execution_count": 30,
   "id": "1f14c1fd",
   "metadata": {
    "scrolled": true
   },
   "outputs": [
    {
     "data": {
      "text/html": [
       "<div>\n",
       "<style scoped>\n",
       "    .dataframe tbody tr th:only-of-type {\n",
       "        vertical-align: middle;\n",
       "    }\n",
       "\n",
       "    .dataframe tbody tr th {\n",
       "        vertical-align: top;\n",
       "    }\n",
       "\n",
       "    .dataframe thead th {\n",
       "        text-align: right;\n",
       "    }\n",
       "</style>\n",
       "<table border=\"1\" class=\"dataframe\">\n",
       "  <thead>\n",
       "    <tr style=\"text-align: right;\">\n",
       "      <th></th>\n",
       "      <th>Year Built</th>\n",
       "      <th>Length</th>\n",
       "      <th>Width</th>\n",
       "      <th>Number of views last 7 days</th>\n",
       "      <th>value</th>\n",
       "      <th>value_in_eur</th>\n",
       "    </tr>\n",
       "  </thead>\n",
       "  <tbody>\n",
       "    <tr>\n",
       "      <th>count</th>\n",
       "      <td>9888.000000</td>\n",
       "      <td>9888.000000</td>\n",
       "      <td>9888.000000</td>\n",
       "      <td>9888.000000</td>\n",
       "      <td>9.888000e+03</td>\n",
       "      <td>9.888000e+03</td>\n",
       "    </tr>\n",
       "    <tr>\n",
       "      <th>mean</th>\n",
       "      <td>1893.192860</td>\n",
       "      <td>11.568843</td>\n",
       "      <td>3.558408</td>\n",
       "      <td>149.160801</td>\n",
       "      <td>3.201373e+05</td>\n",
       "      <td>3.022116e+05</td>\n",
       "    </tr>\n",
       "    <tr>\n",
       "      <th>std</th>\n",
       "      <td>460.201582</td>\n",
       "      <td>6.000213</td>\n",
       "      <td>1.318568</td>\n",
       "      <td>151.819752</td>\n",
       "      <td>1.007482e+06</td>\n",
       "      <td>9.689719e+05</td>\n",
       "    </tr>\n",
       "    <tr>\n",
       "      <th>min</th>\n",
       "      <td>0.000000</td>\n",
       "      <td>1.040000</td>\n",
       "      <td>0.010000</td>\n",
       "      <td>13.000000</td>\n",
       "      <td>3.300000e+03</td>\n",
       "      <td>3.224000e+03</td>\n",
       "    </tr>\n",
       "    <tr>\n",
       "      <th>25%</th>\n",
       "      <td>1996.000000</td>\n",
       "      <td>7.470000</td>\n",
       "      <td>2.550000</td>\n",
       "      <td>70.000000</td>\n",
       "      <td>4.400000e+04</td>\n",
       "      <td>4.298750e+04</td>\n",
       "    </tr>\n",
       "    <tr>\n",
       "      <th>50%</th>\n",
       "      <td>2007.000000</td>\n",
       "      <td>10.280000</td>\n",
       "      <td>3.350000</td>\n",
       "      <td>108.000000</td>\n",
       "      <td>9.500000e+04</td>\n",
       "      <td>9.250000e+04</td>\n",
       "    </tr>\n",
       "    <tr>\n",
       "      <th>75%</th>\n",
       "      <td>2017.000000</td>\n",
       "      <td>13.920000</td>\n",
       "      <td>4.250000</td>\n",
       "      <td>172.000000</td>\n",
       "      <td>2.550000e+05</td>\n",
       "      <td>2.480000e+05</td>\n",
       "    </tr>\n",
       "    <tr>\n",
       "      <th>max</th>\n",
       "      <td>2021.000000</td>\n",
       "      <td>100.000000</td>\n",
       "      <td>25.160000</td>\n",
       "      <td>3263.000000</td>\n",
       "      <td>3.100000e+07</td>\n",
       "      <td>3.100000e+07</td>\n",
       "    </tr>\n",
       "  </tbody>\n",
       "</table>\n",
       "</div>"
      ],
      "text/plain": [
       "        Year Built       Length        Width  Number of views last 7 days  \\\n",
       "count  9888.000000  9888.000000  9888.000000                  9888.000000   \n",
       "mean   1893.192860    11.568843     3.558408                   149.160801   \n",
       "std     460.201582     6.000213     1.318568                   151.819752   \n",
       "min       0.000000     1.040000     0.010000                    13.000000   \n",
       "25%    1996.000000     7.470000     2.550000                    70.000000   \n",
       "50%    2007.000000    10.280000     3.350000                   108.000000   \n",
       "75%    2017.000000    13.920000     4.250000                   172.000000   \n",
       "max    2021.000000   100.000000    25.160000                  3263.000000   \n",
       "\n",
       "              value  value_in_eur  \n",
       "count  9.888000e+03  9.888000e+03  \n",
       "mean   3.201373e+05  3.022116e+05  \n",
       "std    1.007482e+06  9.689719e+05  \n",
       "min    3.300000e+03  3.224000e+03  \n",
       "25%    4.400000e+04  4.298750e+04  \n",
       "50%    9.500000e+04  9.250000e+04  \n",
       "75%    2.550000e+05  2.480000e+05  \n",
       "max    3.100000e+07  3.100000e+07  "
      ]
     },
     "execution_count": 30,
     "metadata": {},
     "output_type": "execute_result"
    }
   ],
   "source": [
    "# checking for the rest possible issues \n",
    "df_boats_raw.describe()"
   ]
  },
  {
   "cell_type": "code",
   "execution_count": 31,
   "id": "c82855fe",
   "metadata": {},
   "outputs": [],
   "source": [
    "df_boats_raw.rename(columns={'Year Built': 'year_built'}, inplace=True)"
   ]
  },
  {
   "cell_type": "code",
   "execution_count": 32,
   "id": "bd362d0b",
   "metadata": {
    "scrolled": true
   },
   "outputs": [
    {
     "name": "stderr",
     "output_type": "stream",
     "text": [
      "C:\\Users\\dog\\anaconda3\\lib\\site-packages\\seaborn\\_decorators.py:36: FutureWarning: Pass the following variable as a keyword arg: x. From version 0.12, the only valid positional argument will be `data`, and passing other arguments without an explicit keyword will result in an error or misinterpretation.\n",
      "  warnings.warn(\n"
     ]
    },
    {
     "data": {
      "text/plain": [
       "<AxesSubplot:xlabel='year_built'>"
      ]
     },
     "execution_count": 32,
     "metadata": {},
     "output_type": "execute_result"
    },
    {
     "data": {
      "image/png": "[encoded data removed]",
      "text/plain": [
       "<Figure size 640x480 with 1 Axes>"
      ]
     },
     "metadata": {},
     "output_type": "display_data"
    }
   ],
   "source": [
    "sns.boxplot(df_boats_raw.year_built)"
   ]
  },
  {
   "cell_type": "markdown",
   "id": "eae85e6f",
   "metadata": {},
   "source": [
    "Year built contains 0 values which must be dropped"
   ]
  },
  {
   "cell_type": "markdown",
   "id": "a0236d77",
   "metadata": {},
   "source": [
    "####  dropping NaN of the year built columns so that we can use this column later on"
   ]
  },
  {
   "cell_type": "code",
   "execution_count": 33,
   "id": "0e8cd1b5",
   "metadata": {},
   "outputs": [],
   "source": [
    "df_boats_raw = df_boats_raw[df_boats_raw[\"year_built\"] != 0]"
   ]
  },
  {
   "cell_type": "code",
   "execution_count": 34,
   "id": "0cf8fc1a",
   "metadata": {},
   "outputs": [
    {
     "name": "stderr",
     "output_type": "stream",
     "text": [
      "C:\\Users\\dog\\anaconda3\\lib\\site-packages\\seaborn\\_decorators.py:36: FutureWarning: Pass the following variable as a keyword arg: x. From version 0.12, the only valid positional argument will be `data`, and passing other arguments without an explicit keyword will result in an error or misinterpretation.\n",
      "  warnings.warn(\n"
     ]
    },
    {
     "data": {
      "text/plain": [
       "<AxesSubplot:xlabel='year_built'>"
      ]
     },
     "execution_count": 34,
     "metadata": {},
     "output_type": "execute_result"
    },
    {
     "data": {
      "image/png": "[encoded data removed]",
      "text/plain": [
       "<Figure size 640x480 with 1 Axes>"
      ]
     },
     "metadata": {},
     "output_type": "display_data"
    }
   ],
   "source": [
    "sns.boxplot(df_boats_raw.year_built)"
   ]
  },
  {
   "cell_type": "code",
   "execution_count": 35,
   "id": "1dd4f361",
   "metadata": {
    "scrolled": true
   },
   "outputs": [
    {
     "data": {
      "text/plain": [
       "Boat Type                      0\n",
       "Manufacturer                   0\n",
       "Type                           5\n",
       "year_built                     0\n",
       "Length                         0\n",
       "Width                          0\n",
       "Material                       0\n",
       "Location                       0\n",
       "Number of views last 7 days    0\n",
       "currency                       0\n",
       "value                          0\n",
       "value_in_eur                   0\n",
       "Country                        0\n",
       "dtype: int64"
      ]
     },
     "execution_count": 35,
     "metadata": {},
     "output_type": "execute_result"
    }
   ],
   "source": [
    "# checking for the rest NaN issues\n",
    "df_boats_raw.isnull().sum()\n"
   ]
  },
  {
   "cell_type": "code",
   "execution_count": 36,
   "id": "027dba9b",
   "metadata": {},
   "outputs": [],
   "source": [
    "# type contains 6 0 values which must be replaced with unknown\n",
    "df_boats_raw['Type'].replace([0,np.nan], 'unknown', inplace=True)"
   ]
  },
  {
   "cell_type": "code",
   "execution_count": 37,
   "id": "3c02b615",
   "metadata": {
    "scrolled": false
   },
   "outputs": [
    {
     "name": "stdout",
     "output_type": "stream",
     "text": [
      "<class 'pandas.core.frame.DataFrame'>\n",
      "Int64Index: 9337 entries, 0 to 9887\n",
      "Data columns (total 13 columns):\n",
      " #   Column                       Non-Null Count  Dtype  \n",
      "---  ------                       --------------  -----  \n",
      " 0   Boat Type                    9337 non-null   object \n",
      " 1   Manufacturer                 9337 non-null   object \n",
      " 2   Type                         9337 non-null   object \n",
      " 3   year_built                   9337 non-null   int64  \n",
      " 4   Length                       9337 non-null   float64\n",
      " 5   Width                        9337 non-null   float64\n",
      " 6   Material                     9337 non-null   object \n",
      " 7   Location                     9337 non-null   object \n",
      " 8   Number of views last 7 days  9337 non-null   int64  \n",
      " 9   currency                     9337 non-null   object \n",
      " 10  value                        9337 non-null   int64  \n",
      " 11  value_in_eur                 9337 non-null   float64\n",
      " 12  Country                      9337 non-null   object \n",
      "dtypes: float64(3), int64(3), object(7)\n",
      "memory usage: 1021.2+ KB\n"
     ]
    }
   ],
   "source": [
    "# checking what must be changed in the data \n",
    "df_boats_raw.info()"
   ]
  },
  {
   "cell_type": "code",
   "execution_count": 38,
   "id": "9ddaee88",
   "metadata": {},
   "outputs": [],
   "source": [
    "df_boats_raw.drop(labels=['Location'], axis=1, inplace=True)"
   ]
  },
  {
   "cell_type": "code",
   "execution_count": 39,
   "id": "82ab0908",
   "metadata": {},
   "outputs": [],
   "source": [
    "# renaming columns for better visibility\n",
    "df_boats_raw = df_boats_raw.rename(columns={'Boat Type': 'boat_type', 'Manufacturer': 'manufacturer', 'Type': 'type', 'Length' : 'length',\n",
    "                                             'Width': 'width', 'Material': 'material', 'Number of views last 7 days' : 'views_last_7_days',\n",
    "                                             'Country': 'country'})"
   ]
  },
  {
   "cell_type": "code",
   "execution_count": 40,
   "id": "ac313f64",
   "metadata": {
    "scrolled": false
   },
   "outputs": [
    {
     "data": {
      "text/plain": [
       "boat_type            0\n",
       "manufacturer         0\n",
       "type                 0\n",
       "year_built           0\n",
       "length               0\n",
       "width                0\n",
       "material             0\n",
       "views_last_7_days    0\n",
       "currency             0\n",
       "value                0\n",
       "value_in_eur         0\n",
       "country              0\n",
       "dtype: int64"
      ]
     },
     "execution_count": 40,
     "metadata": {},
     "output_type": "execute_result"
    }
   ],
   "source": [
    "df_boats_raw.isnull().sum()"
   ]
  },
  {
   "cell_type": "code",
   "execution_count": 41,
   "id": "1400ae28",
   "metadata": {},
   "outputs": [],
   "source": [
    "df_boats_wrangled = df_boats_raw"
   ]
  },
  {
   "cell_type": "code",
   "execution_count": 42,
   "id": "cb5de93c",
   "metadata": {
    "scrolled": true
   },
   "outputs": [
    {
     "name": "stdout",
     "output_type": "stream",
     "text": [
      "<class 'pandas.core.frame.DataFrame'>\n",
      "Int64Index: 9337 entries, 0 to 9887\n",
      "Data columns (total 12 columns):\n",
      " #   Column             Non-Null Count  Dtype  \n",
      "---  ------             --------------  -----  \n",
      " 0   boat_type          9337 non-null   object \n",
      " 1   manufacturer       9337 non-null   object \n",
      " 2   type               9337 non-null   object \n",
      " 3   year_built         9337 non-null   int64  \n",
      " 4   length             9337 non-null   float64\n",
      " 5   width              9337 non-null   float64\n",
      " 6   material           9337 non-null   object \n",
      " 7   views_last_7_days  9337 non-null   int64  \n",
      " 8   currency           9337 non-null   object \n",
      " 9   value              9337 non-null   int64  \n",
      " 10  value_in_eur       9337 non-null   float64\n",
      " 11  country            9337 non-null   object \n",
      "dtypes: float64(3), int64(3), object(6)\n",
      "memory usage: 948.3+ KB\n"
     ]
    }
   ],
   "source": [
    "df_boats_wrangled.info()"
   ]
  },
  {
   "cell_type": "code",
   "execution_count": 44,
   "id": "a9dd2b72",
   "metadata": {},
   "outputs": [
    {
     "data": {
      "text/plain": [
       "boat_type            0\n",
       "manufacturer         0\n",
       "type                 0\n",
       "year_built           0\n",
       "length               0\n",
       "width                0\n",
       "material             0\n",
       "views_last_7_days    0\n",
       "currency             0\n",
       "value                0\n",
       "value_in_eur         0\n",
       "country              0\n",
       "dtype: int64"
      ]
     },
     "execution_count": 44,
     "metadata": {},
     "output_type": "execute_result"
    }
   ],
   "source": [
    "df_boats_wrangled.isnull().sum()"
   ]
  },
  {
   "cell_type": "code",
   "execution_count": 43,
   "id": "d14173c6",
   "metadata": {
    "scrolled": true
   },
   "outputs": [],
   "source": [
    "# exporting cleaned and wrangled data frame\n",
    "df_boats_wrangled.to_csv(os.path.join(path, '02 Prepared Data', 'boat_data_wrangled_new.csv'))"
   ]
  },
  {
   "cell_type": "code",
   "execution_count": null,
   "id": "03eb2495",
   "metadata": {},
   "outputs": [],
   "source": []
  }
 ],
 "metadata": {
  "kernelspec": {
   "display_name": "Python 3 (ipykernel)",
   "language": "python",
   "name": "python3"
  },
  "language_info": {
   "codemirror_mode": {
    "name": "ipython",
    "version": 3
   },
   "file_extension": ".py",
   "mimetype": "text/x-python",
   "name": "python",
   "nbconvert_exporter": "python",
   "pygments_lexer": "ipython3",
   "version": "3.9.13"
  }
 },
 "nbformat": 4,
 "nbformat_minor": 5
}
